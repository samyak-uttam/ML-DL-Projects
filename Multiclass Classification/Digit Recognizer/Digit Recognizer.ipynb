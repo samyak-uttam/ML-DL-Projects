{
 "cells": [
  {
   "cell_type": "markdown",
   "metadata": {},
   "source": [
    "# Digit Recognizer\n",
    "Identifying the handwritten digits."
   ]
  },
  {
   "cell_type": "code",
   "execution_count": 1,
   "metadata": {},
   "outputs": [],
   "source": [
    "# import all required libraries for reading, analysing and visualizing data\n",
    "import numpy as np\n",
    "import pandas as pd\n",
    "import seaborn as sns\n",
    "import matplotlib.pyplot as plt"
   ]
  },
  {
   "cell_type": "markdown",
   "metadata": {},
   "source": [
    "## Data Analysis"
   ]
  },
  {
   "cell_type": "code",
   "execution_count": 2,
   "metadata": {},
   "outputs": [],
   "source": [
    "# read the data from the train and test csv files\n",
    "train_df = pd.read_csv('../../../Large Datasets/digitRecog/train.csv')\n",
    "test_df = pd.read_csv('../../../Large Datasets/digitRecog/test.csv')"
   ]
  },
  {
   "cell_type": "code",
   "execution_count": 3,
   "metadata": {},
   "outputs": [
    {
     "data": {
      "text/html": [
       "<div>\n",
       "<style scoped>\n",
       "    .dataframe tbody tr th:only-of-type {\n",
       "        vertical-align: middle;\n",
       "    }\n",
       "\n",
       "    .dataframe tbody tr th {\n",
       "        vertical-align: top;\n",
       "    }\n",
       "\n",
       "    .dataframe thead th {\n",
       "        text-align: right;\n",
       "    }\n",
       "</style>\n",
       "<table border=\"1\" class=\"dataframe\">\n",
       "  <thead>\n",
       "    <tr style=\"text-align: right;\">\n",
       "      <th></th>\n",
       "      <th>label</th>\n",
       "      <th>pixel0</th>\n",
       "      <th>pixel1</th>\n",
       "      <th>pixel2</th>\n",
       "      <th>pixel3</th>\n",
       "      <th>pixel4</th>\n",
       "      <th>pixel5</th>\n",
       "      <th>pixel6</th>\n",
       "      <th>pixel7</th>\n",
       "      <th>pixel8</th>\n",
       "      <th>...</th>\n",
       "      <th>pixel774</th>\n",
       "      <th>pixel775</th>\n",
       "      <th>pixel776</th>\n",
       "      <th>pixel777</th>\n",
       "      <th>pixel778</th>\n",
       "      <th>pixel779</th>\n",
       "      <th>pixel780</th>\n",
       "      <th>pixel781</th>\n",
       "      <th>pixel782</th>\n",
       "      <th>pixel783</th>\n",
       "    </tr>\n",
       "  </thead>\n",
       "  <tbody>\n",
       "    <tr>\n",
       "      <th>0</th>\n",
       "      <td>1</td>\n",
       "      <td>0</td>\n",
       "      <td>0</td>\n",
       "      <td>0</td>\n",
       "      <td>0</td>\n",
       "      <td>0</td>\n",
       "      <td>0</td>\n",
       "      <td>0</td>\n",
       "      <td>0</td>\n",
       "      <td>0</td>\n",
       "      <td>...</td>\n",
       "      <td>0</td>\n",
       "      <td>0</td>\n",
       "      <td>0</td>\n",
       "      <td>0</td>\n",
       "      <td>0</td>\n",
       "      <td>0</td>\n",
       "      <td>0</td>\n",
       "      <td>0</td>\n",
       "      <td>0</td>\n",
       "      <td>0</td>\n",
       "    </tr>\n",
       "    <tr>\n",
       "      <th>1</th>\n",
       "      <td>0</td>\n",
       "      <td>0</td>\n",
       "      <td>0</td>\n",
       "      <td>0</td>\n",
       "      <td>0</td>\n",
       "      <td>0</td>\n",
       "      <td>0</td>\n",
       "      <td>0</td>\n",
       "      <td>0</td>\n",
       "      <td>0</td>\n",
       "      <td>...</td>\n",
       "      <td>0</td>\n",
       "      <td>0</td>\n",
       "      <td>0</td>\n",
       "      <td>0</td>\n",
       "      <td>0</td>\n",
       "      <td>0</td>\n",
       "      <td>0</td>\n",
       "      <td>0</td>\n",
       "      <td>0</td>\n",
       "      <td>0</td>\n",
       "    </tr>\n",
       "    <tr>\n",
       "      <th>2</th>\n",
       "      <td>1</td>\n",
       "      <td>0</td>\n",
       "      <td>0</td>\n",
       "      <td>0</td>\n",
       "      <td>0</td>\n",
       "      <td>0</td>\n",
       "      <td>0</td>\n",
       "      <td>0</td>\n",
       "      <td>0</td>\n",
       "      <td>0</td>\n",
       "      <td>...</td>\n",
       "      <td>0</td>\n",
       "      <td>0</td>\n",
       "      <td>0</td>\n",
       "      <td>0</td>\n",
       "      <td>0</td>\n",
       "      <td>0</td>\n",
       "      <td>0</td>\n",
       "      <td>0</td>\n",
       "      <td>0</td>\n",
       "      <td>0</td>\n",
       "    </tr>\n",
       "    <tr>\n",
       "      <th>3</th>\n",
       "      <td>4</td>\n",
       "      <td>0</td>\n",
       "      <td>0</td>\n",
       "      <td>0</td>\n",
       "      <td>0</td>\n",
       "      <td>0</td>\n",
       "      <td>0</td>\n",
       "      <td>0</td>\n",
       "      <td>0</td>\n",
       "      <td>0</td>\n",
       "      <td>...</td>\n",
       "      <td>0</td>\n",
       "      <td>0</td>\n",
       "      <td>0</td>\n",
       "      <td>0</td>\n",
       "      <td>0</td>\n",
       "      <td>0</td>\n",
       "      <td>0</td>\n",
       "      <td>0</td>\n",
       "      <td>0</td>\n",
       "      <td>0</td>\n",
       "    </tr>\n",
       "    <tr>\n",
       "      <th>4</th>\n",
       "      <td>0</td>\n",
       "      <td>0</td>\n",
       "      <td>0</td>\n",
       "      <td>0</td>\n",
       "      <td>0</td>\n",
       "      <td>0</td>\n",
       "      <td>0</td>\n",
       "      <td>0</td>\n",
       "      <td>0</td>\n",
       "      <td>0</td>\n",
       "      <td>...</td>\n",
       "      <td>0</td>\n",
       "      <td>0</td>\n",
       "      <td>0</td>\n",
       "      <td>0</td>\n",
       "      <td>0</td>\n",
       "      <td>0</td>\n",
       "      <td>0</td>\n",
       "      <td>0</td>\n",
       "      <td>0</td>\n",
       "      <td>0</td>\n",
       "    </tr>\n",
       "  </tbody>\n",
       "</table>\n",
       "<p>5 rows × 785 columns</p>\n",
       "</div>"
      ],
      "text/plain": [
       "   label  pixel0  pixel1  pixel2  pixel3  pixel4  pixel5  pixel6  pixel7  \\\n",
       "0      1       0       0       0       0       0       0       0       0   \n",
       "1      0       0       0       0       0       0       0       0       0   \n",
       "2      1       0       0       0       0       0       0       0       0   \n",
       "3      4       0       0       0       0       0       0       0       0   \n",
       "4      0       0       0       0       0       0       0       0       0   \n",
       "\n",
       "   pixel8  ...  pixel774  pixel775  pixel776  pixel777  pixel778  pixel779  \\\n",
       "0       0  ...         0         0         0         0         0         0   \n",
       "1       0  ...         0         0         0         0         0         0   \n",
       "2       0  ...         0         0         0         0         0         0   \n",
       "3       0  ...         0         0         0         0         0         0   \n",
       "4       0  ...         0         0         0         0         0         0   \n",
       "\n",
       "   pixel780  pixel781  pixel782  pixel783  \n",
       "0         0         0         0         0  \n",
       "1         0         0         0         0  \n",
       "2         0         0         0         0  \n",
       "3         0         0         0         0  \n",
       "4         0         0         0         0  \n",
       "\n",
       "[5 rows x 785 columns]"
      ]
     },
     "execution_count": 3,
     "metadata": {},
     "output_type": "execute_result"
    }
   ],
   "source": [
    "train_df.head()"
   ]
  },
  {
   "cell_type": "code",
   "execution_count": 4,
   "metadata": {},
   "outputs": [
    {
     "name": "stdout",
     "output_type": "stream",
     "text": [
      "Training dataset shape:  (42000, 785)\n",
      "Testing dataset shape:  (28000, 784)\n"
     ]
    }
   ],
   "source": [
    "print('Training dataset shape: ', train_df.shape)\n",
    "print('Testing dataset shape: ', test_df.shape)"
   ]
  },
  {
   "cell_type": "code",
   "execution_count": 5,
   "metadata": {},
   "outputs": [
    {
     "data": {
      "text/plain": [
       "count       785\n",
       "unique        1\n",
       "top       False\n",
       "freq        785\n",
       "dtype: object"
      ]
     },
     "execution_count": 5,
     "metadata": {},
     "output_type": "execute_result"
    }
   ],
   "source": [
    "# check for null values\n",
    "train_df.isnull().any().describe()"
   ]
  },
  {
   "cell_type": "code",
   "execution_count": 6,
   "metadata": {},
   "outputs": [
    {
     "data": {
      "text/plain": [
       "count       784\n",
       "unique        1\n",
       "top       False\n",
       "freq        784\n",
       "dtype: object"
      ]
     },
     "execution_count": 6,
     "metadata": {},
     "output_type": "execute_result"
    }
   ],
   "source": [
    "# check for null values\n",
    "test_df.isnull().any().describe()"
   ]
  },
  {
   "cell_type": "code",
   "execution_count": 7,
   "metadata": {},
   "outputs": [],
   "source": [
    "(Y, X) = (train_df['label'], train_df.drop(['label'], axis = 1))"
   ]
  },
  {
   "cell_type": "markdown",
   "metadata": {},
   "source": [
    "## Data Visualization"
   ]
  },
  {
   "cell_type": "code",
   "execution_count": 8,
   "metadata": {},
   "outputs": [
    {
     "data": {
      "image/png": "[encoded data removed]",
      "text/plain": [
       "<Figure size 720x360 with 1 Axes>"
      ]
     },
     "metadata": {
      "needs_background": "light"
     },
     "output_type": "display_data"
    }
   ],
   "source": [
    "plt.figure(figsize = [10, 5])\n",
    "sns.countplot(Y);"
   ]
  },
  {
   "cell_type": "code",
   "execution_count": 9,
   "metadata": {},
   "outputs": [
    {
     "data": {
      "image/png": "[encoded data removed]",
      "text/plain": [
       "<Figure size 432x288 with 1 Axes>"
      ]
     },
     "metadata": {
      "needs_background": "light"
     },
     "output_type": "display_data"
    }
   ],
   "source": [
    "# see any image of the dataset\n",
    "i = 25\n",
    "img = X.values[i, :]\n",
    "img = img.reshape(28, 28)\n",
    "plt.imshow(255-img, cmap='gray');"
   ]
  },
  {
   "cell_type": "markdown",
   "metadata": {},
   "source": [
    "## Preprocessing of data"
   ]
  },
  {
   "cell_type": "code",
   "execution_count": 10,
   "metadata": {},
   "outputs": [],
   "source": [
    "from sklearn.model_selection import train_test_split"
   ]
  },
  {
   "cell_type": "code",
   "execution_count": 11,
   "metadata": {},
   "outputs": [
    {
     "name": "stdout",
     "output_type": "stream",
     "text": [
      "X_train shape:(29400, 784)\n",
      "Y_train shape:(29400, 1)\n",
      "X_val shape:(12600, 784)\n",
      "Y_val shape:(12600, 1)\n"
     ]
    }
   ],
   "source": [
    "# split into training and validation set\n",
    "(X_train, X_val, Y_train, Y_val) = train_test_split(X.values, Y.values, test_size=0.3)\n",
    "\n",
    "# Reshape the datasets\n",
    "Y_train = Y_train.reshape(X_train.shape[0], 1)\n",
    "Y_val = Y_val.reshape(X_val.shape[0], 1)\n",
    "\n",
    "# Explore the dataset\n",
    "print(\"X_train shape:\" + str(X_train.shape))\n",
    "print(\"Y_train shape:\" + str(Y_train.shape))\n",
    "print(\"X_val shape:\" + str(X_val.shape))\n",
    "print(\"Y_val shape:\" + str(Y_val.shape))"
   ]
  },
  {
   "cell_type": "code",
   "execution_count": 12,
   "metadata": {},
   "outputs": [],
   "source": [
    "# normalize the xalues\n",
    "X_train = X_train/255.0\n",
    "X_val = X_val/255.0"
   ]
  },
  {
   "cell_type": "markdown",
   "metadata": {},
   "source": [
    "## Deep Neural Network using Keras"
   ]
  },
  {
   "cell_type": "code",
   "execution_count": 13,
   "metadata": {},
   "outputs": [],
   "source": [
    "from keras.models import Sequential\n",
    "from keras.layers import Input, Dense"
   ]
  },
  {
   "cell_type": "code",
   "execution_count": 14,
   "metadata": {},
   "outputs": [],
   "source": [
    "# define the model\n",
    "model = Sequential()\n",
    "model.add(Input(shape = (784, )))\n",
    "model.add(Dense(35, activation = 'relu'))\n",
    "model.add(Dense(20, activation = 'relu'))\n",
    "model.add(Dense(10, activation = 'softmax'))"
   ]
  },
  {
   "cell_type": "code",
   "execution_count": 15,
   "metadata": {},
   "outputs": [
    {
     "name": "stdout",
     "output_type": "stream",
     "text": [
      "Model: \"sequential\"\n",
      "_________________________________________________________________\n",
      "Layer (type)                 Output Shape              Param #   \n",
      "=================================================================\n",
      "dense (Dense)                (None, 35)                27475     \n",
      "_________________________________________________________________\n",
      "dense_1 (Dense)              (None, 20)                720       \n",
      "_________________________________________________________________\n",
      "dense_2 (Dense)              (None, 10)                210       \n",
      "=================================================================\n",
      "Total params: 28,405\n",
      "Trainable params: 28,405\n",
      "Non-trainable params: 0\n",
      "_________________________________________________________________\n"
     ]
    }
   ],
   "source": [
    "# summary of the model\n",
    "model.summary()"
   ]
  },
  {
   "cell_type": "code",
   "execution_count": 16,
   "metadata": {},
   "outputs": [],
   "source": [
    "# compile the model\n",
    "model.compile(loss = 'sparse_categorical_crossentropy', optimizer = 'adam', metrics = ['accuracy'])"
   ]
  },
  {
   "cell_type": "code",
   "execution_count": 17,
   "metadata": {
    "scrolled": true
   },
   "outputs": [
    {
     "name": "stdout",
     "output_type": "stream",
     "text": [
      "Epoch 1/25\n",
      "46/46 [==============================] - 1s 14ms/step - loss: 1.4890 - accuracy: 0.5784 - val_loss: 0.7855 - val_accuracy: 0.8189\n",
      "Epoch 2/25\n",
      "46/46 [==============================] - 0s 6ms/step - loss: 0.5637 - accuracy: 0.8579 - val_loss: 0.4272 - val_accuracy: 0.8891\n",
      "Epoch 3/25\n",
      "46/46 [==============================] - 0s 5ms/step - loss: 0.3907 - accuracy: 0.8926 - val_loss: 0.3449 - val_accuracy: 0.9022\n",
      "Epoch 4/25\n",
      "46/46 [==============================] - 0s 5ms/step - loss: 0.3348 - accuracy: 0.9062 - val_loss: 0.3063 - val_accuracy: 0.9119\n",
      "Epoch 5/25\n",
      "46/46 [==============================] - 0s 5ms/step - loss: 0.3044 - accuracy: 0.9146 - val_loss: 0.2838 - val_accuracy: 0.9202\n",
      "Epoch 6/25\n",
      "46/46 [==============================] - 0s 5ms/step - loss: 0.2814 - accuracy: 0.9197 - val_loss: 0.2663 - val_accuracy: 0.9245\n",
      "Epoch 7/25\n",
      "46/46 [==============================] - 0s 5ms/step - loss: 0.2626 - accuracy: 0.9256 - val_loss: 0.2548 - val_accuracy: 0.9279\n",
      "Epoch 8/25\n",
      "46/46 [==============================] - 0s 5ms/step - loss: 0.2470 - accuracy: 0.9292 - val_loss: 0.2448 - val_accuracy: 0.9332\n",
      "Epoch 9/25\n",
      "46/46 [==============================] - 0s 5ms/step - loss: 0.2317 - accuracy: 0.9339 - val_loss: 0.2341 - val_accuracy: 0.9333\n",
      "Epoch 10/25\n",
      "46/46 [==============================] - 0s 5ms/step - loss: 0.2203 - accuracy: 0.9367 - val_loss: 0.2237 - val_accuracy: 0.9366\n",
      "Epoch 11/25\n",
      "46/46 [==============================] - 0s 5ms/step - loss: 0.2085 - accuracy: 0.9414 - val_loss: 0.2182 - val_accuracy: 0.9386\n",
      "Epoch 12/25\n",
      "46/46 [==============================] - 0s 5ms/step - loss: 0.1992 - accuracy: 0.9430 - val_loss: 0.2080 - val_accuracy: 0.9423\n",
      "Epoch 13/25\n",
      "46/46 [==============================] - 0s 5ms/step - loss: 0.1884 - accuracy: 0.9461 - val_loss: 0.2005 - val_accuracy: 0.9454\n",
      "Epoch 14/25\n",
      "46/46 [==============================] - 0s 5ms/step - loss: 0.1799 - accuracy: 0.9497 - val_loss: 0.1979 - val_accuracy: 0.9459\n",
      "Epoch 15/25\n",
      "46/46 [==============================] - 0s 5ms/step - loss: 0.1733 - accuracy: 0.9509 - val_loss: 0.1930 - val_accuracy: 0.9469\n",
      "Epoch 16/25\n",
      "46/46 [==============================] - 0s 4ms/step - loss: 0.1667 - accuracy: 0.9535 - val_loss: 0.1863 - val_accuracy: 0.9481\n",
      "Epoch 17/25\n",
      "46/46 [==============================] - 0s 5ms/step - loss: 0.1582 - accuracy: 0.9560 - val_loss: 0.1872 - val_accuracy: 0.9466\n",
      "Epoch 18/25\n",
      "46/46 [==============================] - 0s 5ms/step - loss: 0.1532 - accuracy: 0.9571 - val_loss: 0.1834 - val_accuracy: 0.9481\n",
      "Epoch 19/25\n",
      "46/46 [==============================] - 0s 5ms/step - loss: 0.1476 - accuracy: 0.9585 - val_loss: 0.1768 - val_accuracy: 0.9481\n",
      "Epoch 20/25\n",
      "46/46 [==============================] - 0s 5ms/step - loss: 0.1432 - accuracy: 0.9595 - val_loss: 0.1764 - val_accuracy: 0.9507\n",
      "Epoch 21/25\n",
      "46/46 [==============================] - 0s 5ms/step - loss: 0.1379 - accuracy: 0.9616 - val_loss: 0.1737 - val_accuracy: 0.9505\n",
      "Epoch 22/25\n",
      "46/46 [==============================] - 0s 5ms/step - loss: 0.1320 - accuracy: 0.9638 - val_loss: 0.1742 - val_accuracy: 0.9469\n",
      "Epoch 23/25\n",
      "46/46 [==============================] - 0s 5ms/step - loss: 0.1284 - accuracy: 0.9634 - val_loss: 0.1659 - val_accuracy: 0.9497\n",
      "Epoch 24/25\n",
      "46/46 [==============================] - 0s 5ms/step - loss: 0.1222 - accuracy: 0.9660 - val_loss: 0.1659 - val_accuracy: 0.9517\n",
      "Epoch 25/25\n",
      "46/46 [==============================] - 0s 5ms/step - loss: 0.1178 - accuracy: 0.9676 - val_loss: 0.1648 - val_accuracy: 0.9514\n"
     ]
    }
   ],
   "source": [
    "history = model.fit(X_train, Y_train, epochs = 25, batch_size = 512, validation_split = 0.2)"
   ]
  },
  {
   "cell_type": "code",
   "execution_count": 18,
   "metadata": {},
   "outputs": [
    {
     "data": {
      "image/png": "[encoded data removed]",
      "text/plain": [
       "<Figure size 432x288 with 1 Axes>"
      ]
     },
     "metadata": {
      "needs_background": "light"
     },
     "output_type": "display_data"
    },
    {
     "data": {
      "image/png": "[encoded data removed]",
      "text/plain": [
       "<Figure size 432x288 with 1 Axes>"
      ]
     },
     "metadata": {
      "needs_background": "light"
     },
     "output_type": "display_data"
    }
   ],
   "source": [
    "# plot training and validation accuracy values\n",
    "plt.plot(history.history['accuracy'])\n",
    "plt.plot(history.history['val_accuracy'])\n",
    "plt.title('Model accuracy')\n",
    "plt.xlabel('Epoch')\n",
    "plt.ylabel('Accuracy')\n",
    "plt.legend(['Train', 'Val'], loc = 'upper left')\n",
    "plt.show()\n",
    "\n",
    "# plot training and validation loss values\n",
    "plt.plot(history.history['loss'])\n",
    "plt.plot(history.history['val_loss'])\n",
    "plt.title('Model loss')\n",
    "plt.xlabel('Epoch')\n",
    "plt.ylabel('Loss')\n",
    "plt.legend(['Train', 'Val'], loc = 'upper left')\n",
    "plt.show()"
   ]
  },
  {
   "cell_type": "code",
   "execution_count": 19,
   "metadata": {},
   "outputs": [
    {
     "name": "stdout",
     "output_type": "stream",
     "text": [
      "919/919 [==============================] - 1s 933us/step - loss: 0.1239 - accuracy: 0.9660\n",
      "394/394 [==============================] - 0s 948us/step - loss: 0.1848 - accuracy: 0.9458\n",
      "Accuracy on train set is 96.595240%\n",
      "Accuracy on validation set is 94.579363%\n"
     ]
    }
   ],
   "source": [
    "# find the accuracy on train and validation set\n",
    "train_loss, train_acc = model.evaluate(X_train, Y_train)\n",
    "val_loss, val_acc = model.evaluate(X_val, Y_val)\n",
    "print(\"Accuracy on train set is %f\" %(train_acc * 100)  + \"%\")\n",
    "print(\"Accuracy on validation set is %f\" %(val_acc * 100)  + \"%\")"
   ]
  },
  {
   "cell_type": "markdown",
   "metadata": {},
   "source": [
    "## Using Sklearn"
   ]
  },
  {
   "cell_type": "code",
   "execution_count": 20,
   "metadata": {},
   "outputs": [],
   "source": [
    "# import the required modules\n",
    "from sklearn.svm import SVC\n",
    "from sklearn.metrics import accuracy_score, confusion_matrix, classification_report"
   ]
  },
  {
   "cell_type": "code",
   "execution_count": 21,
   "metadata": {},
   "outputs": [
    {
     "name": "stderr",
     "output_type": "stream",
     "text": [
      "C:\\ProgramData\\Anaconda3\\lib\\site-packages\\sklearn\\utils\\validation.py:73: DataConversionWarning: A column-vector y was passed when a 1d array was expected. Please change the shape of y to (n_samples, ), for example using ravel().\n",
      "  return f(**kwargs)\n"
     ]
    },
    {
     "name": "stdout",
     "output_type": "stream",
     "text": [
      "SVM train score:  93.28\n",
      "SVM validation score:  92.92\n",
      "Classification Report: \n",
      "               precision    recall  f1-score   support\n",
      "\n",
      "           0       0.96      0.97      0.97      1243\n",
      "           1       0.94      0.98      0.96      1402\n",
      "           2       0.92      0.92      0.92      1148\n",
      "           3       0.92      0.89      0.90      1328\n",
      "           4       0.91      0.94      0.93      1283\n",
      "           5       0.89      0.91      0.90      1115\n",
      "           6       0.96      0.96      0.96      1243\n",
      "           7       0.95      0.93      0.94      1324\n",
      "           8       0.92      0.90      0.91      1230\n",
      "           9       0.92      0.89      0.91      1284\n",
      "\n",
      "    accuracy                           0.93     12600\n",
      "   macro avg       0.93      0.93      0.93     12600\n",
      "weighted avg       0.93      0.93      0.93     12600\n",
      "\n",
      "Confusion Matrix:\n",
      " [[1208    0    6    3    3    7    6    0    9    1]\n",
      " [   0 1372    8    8    3    3    0    3    2    3]\n",
      " [   6    3 1061    5   20    9   10   10   21    3]\n",
      " [   3    9   22 1180    1   58    6   15   28    6]\n",
      " [   1    7   13    0 1205    0    7    2    0   48]\n",
      " [  10   20    6   32    8 1010   19    0    7    3]\n",
      " [   7    3    9    0    8   16 1194    0    6    0]\n",
      " [   4   11   19    4   22    0    0 1227    5   32]\n",
      " [   5   23    8   35    3   33    8    5 1102    8]\n",
      " [   8   12    5   15   45    3    0   33   14 1149]]\n"
     ]
    }
   ],
   "source": [
    "svm_cl = SVC(gamma=0.001)\n",
    "svm_cl.fit(X_train, Y_train)\n",
    "\n",
    "# train score\n",
    "svm_train_score = round(svm_cl.score(X_train, Y_train) * 100, 2)\n",
    "svm_val_score = round(svm_cl.score(X_val, Y_val) * 100, 2)\n",
    "# predicted output\n",
    "Y_pred_svm = svm_cl.predict(X_val)\n",
    "\n",
    "print('SVM train score: ', svm_train_score)\n",
    "print('SVM validation score: ', svm_val_score)\n",
    "print('Classification Report: \\n', classification_report(Y_val, Y_pred_svm))\n",
    "print('Confusion Matrix:\\n', confusion_matrix(Y_val, Y_pred_svm))"
   ]
  },
  {
   "cell_type": "markdown",
   "metadata": {},
   "source": [
    "## Generate and write the outputs to the csv file"
   ]
  },
  {
   "cell_type": "code",
   "execution_count": 22,
   "metadata": {},
   "outputs": [
    {
     "name": "stdout",
     "output_type": "stream",
     "text": [
      "WARNING:tensorflow:From <ipython-input-22-0862f807f5ef>:2: Sequential.predict_classes (from tensorflow.python.keras.engine.sequential) is deprecated and will be removed after 2021-01-01.\n",
      "Instructions for updating:\n",
      "Please use instead:* `np.argmax(model.predict(x), axis=-1)`,   if your model does multi-class classification   (e.g. if it uses a `softmax` last-layer activation).* `(model.predict(x) > 0.5).astype(\"int32\")`,   if your model does binary classification   (e.g. if it uses a `sigmoid` last-layer activation).\n"
     ]
    }
   ],
   "source": [
    "X_test = test_df.values\n",
    "Y_test = model.predict_classes(X_test)"
   ]
  },
  {
   "cell_type": "code",
   "execution_count": 23,
   "metadata": {},
   "outputs": [
    {
     "name": "stdout",
     "output_type": "stream",
     "text": [
      "The model predicted it as: 2\n"
     ]
    },
    {
     "data": {
      "image/png": "[encoded data removed]",
      "text/plain": [
       "<Figure size 432x288 with 1 Axes>"
      ]
     },
     "metadata": {
      "needs_background": "light"
     },
     "output_type": "display_data"
    }
   ],
   "source": [
    "# check the predictions\n",
    "i = 0\n",
    "img = X_test[i, :]\n",
    "img = img.reshape(28, 28)\n",
    "plt.imshow(255-img, cmap='gray')\n",
    "\n",
    "print(\"The model predicted it as: %i\" %Y_test[i])"
   ]
  },
  {
   "cell_type": "code",
   "execution_count": 24,
   "metadata": {},
   "outputs": [],
   "source": [
    "ids = np.array([i + 1 for i in range(X_test.shape[0])])\n",
    "ans = {'ImageId': ids, 'Label': Y_test}"
   ]
  },
  {
   "cell_type": "code",
   "execution_count": 25,
   "metadata": {},
   "outputs": [],
   "source": [
    "df = pd.DataFrame(ans)"
   ]
  },
  {
   "cell_type": "code",
   "execution_count": 26,
   "metadata": {},
   "outputs": [],
   "source": [
    "df.to_csv('output.csv', index = False)"
   ]
  },
  {
   "cell_type": "code",
   "execution_count": null,
   "metadata": {},
   "outputs": [],
   "source": []
  }
 ],
 "metadata": {
  "kernelspec": {
   "display_name": "Python 3",
   "language": "python",
   "name": "python3"
  },
  "language_info": {
   "codemirror_mode": {
    "name": "ipython",
    "version": 3
   },
   "file_extension": ".py",
   "mimetype": "text/x-python",
   "name": "python",
   "nbconvert_exporter": "python",
   "pygments_lexer": "ipython3",
   "version": "3.8.3"
  }
 },
 "nbformat": 4,
 "nbformat_minor": 4
}

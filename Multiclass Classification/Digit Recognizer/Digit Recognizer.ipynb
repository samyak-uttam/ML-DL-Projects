{
 "cells": [
  {
   "cell_type": "markdown",
   "metadata": {},
   "source": [
    "# Digit Recognizer\n",
    "Identifying the handwritten digits."
   ]
  },
  {
   "cell_type": "code",
   "execution_count": 1,
   "metadata": {},
   "outputs": [],
   "source": [
    "# import all required libraries for reading, analysing and visualizing data\n",
    "import numpy as np\n",
    "import pandas as pd\n",
    "import seaborn as sns\n",
    "import matplotlib.pyplot as plt"
   ]
  },
  {
   "cell_type": "markdown",
   "metadata": {},
   "source": [
    "## Data Analysis"
   ]
  },
  {
   "cell_type": "code",
   "execution_count": 2,
   "metadata": {},
   "outputs": [],
   "source": [
    "# read the data from the train and test csv files\n",
    "train_df = pd.read_csv('./dataset/train.csv')\n",
    "test_df = pd.read_csv('./dataset/test.csv')"
   ]
  },
  {
   "cell_type": "code",
   "execution_count": 3,
   "metadata": {},
   "outputs": [
    {
     "data": {
      "text/html": [
       "<div>\n",
       "<style scoped>\n",
       "    .dataframe tbody tr th:only-of-type {\n",
       "        vertical-align: middle;\n",
       "    }\n",
       "\n",
       "    .dataframe tbody tr th {\n",
       "        vertical-align: top;\n",
       "    }\n",
       "\n",
       "    .dataframe thead th {\n",
       "        text-align: right;\n",
       "    }\n",
       "</style>\n",
       "<table border=\"1\" class=\"dataframe\">\n",
       "  <thead>\n",
       "    <tr style=\"text-align: right;\">\n",
       "      <th></th>\n",
       "      <th>label</th>\n",
       "      <th>pixel0</th>\n",
       "      <th>pixel1</th>\n",
       "      <th>pixel2</th>\n",
       "      <th>pixel3</th>\n",
       "      <th>pixel4</th>\n",
       "      <th>pixel5</th>\n",
       "      <th>pixel6</th>\n",
       "      <th>pixel7</th>\n",
       "      <th>pixel8</th>\n",
       "      <th>...</th>\n",
       "      <th>pixel774</th>\n",
       "      <th>pixel775</th>\n",
       "      <th>pixel776</th>\n",
       "      <th>pixel777</th>\n",
       "      <th>pixel778</th>\n",
       "      <th>pixel779</th>\n",
       "      <th>pixel780</th>\n",
       "      <th>pixel781</th>\n",
       "      <th>pixel782</th>\n",
       "      <th>pixel783</th>\n",
       "    </tr>\n",
       "  </thead>\n",
       "  <tbody>\n",
       "    <tr>\n",
       "      <th>0</th>\n",
       "      <td>1</td>\n",
       "      <td>0</td>\n",
       "      <td>0</td>\n",
       "      <td>0</td>\n",
       "      <td>0</td>\n",
       "      <td>0</td>\n",
       "      <td>0</td>\n",
       "      <td>0</td>\n",
       "      <td>0</td>\n",
       "      <td>0</td>\n",
       "      <td>...</td>\n",
       "      <td>0</td>\n",
       "      <td>0</td>\n",
       "      <td>0</td>\n",
       "      <td>0</td>\n",
       "      <td>0</td>\n",
       "      <td>0</td>\n",
       "      <td>0</td>\n",
       "      <td>0</td>\n",
       "      <td>0</td>\n",
       "      <td>0</td>\n",
       "    </tr>\n",
       "    <tr>\n",
       "      <th>1</th>\n",
       "      <td>0</td>\n",
       "      <td>0</td>\n",
       "      <td>0</td>\n",
       "      <td>0</td>\n",
       "      <td>0</td>\n",
       "      <td>0</td>\n",
       "      <td>0</td>\n",
       "      <td>0</td>\n",
       "      <td>0</td>\n",
       "      <td>0</td>\n",
       "      <td>...</td>\n",
       "      <td>0</td>\n",
       "      <td>0</td>\n",
       "      <td>0</td>\n",
       "      <td>0</td>\n",
       "      <td>0</td>\n",
       "      <td>0</td>\n",
       "      <td>0</td>\n",
       "      <td>0</td>\n",
       "      <td>0</td>\n",
       "      <td>0</td>\n",
       "    </tr>\n",
       "    <tr>\n",
       "      <th>2</th>\n",
       "      <td>1</td>\n",
       "      <td>0</td>\n",
       "      <td>0</td>\n",
       "      <td>0</td>\n",
       "      <td>0</td>\n",
       "      <td>0</td>\n",
       "      <td>0</td>\n",
       "      <td>0</td>\n",
       "      <td>0</td>\n",
       "      <td>0</td>\n",
       "      <td>...</td>\n",
       "      <td>0</td>\n",
       "      <td>0</td>\n",
       "      <td>0</td>\n",
       "      <td>0</td>\n",
       "      <td>0</td>\n",
       "      <td>0</td>\n",
       "      <td>0</td>\n",
       "      <td>0</td>\n",
       "      <td>0</td>\n",
       "      <td>0</td>\n",
       "    </tr>\n",
       "    <tr>\n",
       "      <th>3</th>\n",
       "      <td>4</td>\n",
       "      <td>0</td>\n",
       "      <td>0</td>\n",
       "      <td>0</td>\n",
       "      <td>0</td>\n",
       "      <td>0</td>\n",
       "      <td>0</td>\n",
       "      <td>0</td>\n",
       "      <td>0</td>\n",
       "      <td>0</td>\n",
       "      <td>...</td>\n",
       "      <td>0</td>\n",
       "      <td>0</td>\n",
       "      <td>0</td>\n",
       "      <td>0</td>\n",
       "      <td>0</td>\n",
       "      <td>0</td>\n",
       "      <td>0</td>\n",
       "      <td>0</td>\n",
       "      <td>0</td>\n",
       "      <td>0</td>\n",
       "    </tr>\n",
       "    <tr>\n",
       "      <th>4</th>\n",
       "      <td>0</td>\n",
       "      <td>0</td>\n",
       "      <td>0</td>\n",
       "      <td>0</td>\n",
       "      <td>0</td>\n",
       "      <td>0</td>\n",
       "      <td>0</td>\n",
       "      <td>0</td>\n",
       "      <td>0</td>\n",
       "      <td>0</td>\n",
       "      <td>...</td>\n",
       "      <td>0</td>\n",
       "      <td>0</td>\n",
       "      <td>0</td>\n",
       "      <td>0</td>\n",
       "      <td>0</td>\n",
       "      <td>0</td>\n",
       "      <td>0</td>\n",
       "      <td>0</td>\n",
       "      <td>0</td>\n",
       "      <td>0</td>\n",
       "    </tr>\n",
       "  </tbody>\n",
       "</table>\n",
       "<p>5 rows × 785 columns</p>\n",
       "</div>"
      ],
      "text/plain": [
       "   label  pixel0  pixel1  pixel2  pixel3  pixel4  pixel5  pixel6  pixel7  \\\n",
       "0      1       0       0       0       0       0       0       0       0   \n",
       "1      0       0       0       0       0       0       0       0       0   \n",
       "2      1       0       0       0       0       0       0       0       0   \n",
       "3      4       0       0       0       0       0       0       0       0   \n",
       "4      0       0       0       0       0       0       0       0       0   \n",
       "\n",
       "   pixel8  ...  pixel774  pixel775  pixel776  pixel777  pixel778  pixel779  \\\n",
       "0       0  ...         0         0         0         0         0         0   \n",
       "1       0  ...         0         0         0         0         0         0   \n",
       "2       0  ...         0         0         0         0         0         0   \n",
       "3       0  ...         0         0         0         0         0         0   \n",
       "4       0  ...         0         0         0         0         0         0   \n",
       "\n",
       "   pixel780  pixel781  pixel782  pixel783  \n",
       "0         0         0         0         0  \n",
       "1         0         0         0         0  \n",
       "2         0         0         0         0  \n",
       "3         0         0         0         0  \n",
       "4         0         0         0         0  \n",
       "\n",
       "[5 rows x 785 columns]"
      ]
     },
     "execution_count": 3,
     "metadata": {},
     "output_type": "execute_result"
    }
   ],
   "source": [
    "train_df.head()"
   ]
  },
  {
   "cell_type": "code",
   "execution_count": 4,
   "metadata": {},
   "outputs": [
    {
     "name": "stdout",
     "output_type": "stream",
     "text": [
      "Training dataset shape:  (42000, 785)\n",
      "Testing dataset shape:  (28000, 784)\n"
     ]
    }
   ],
   "source": [
    "print('Training dataset shape: ', train_df.shape)\n",
    "print('Testing dataset shape: ', test_df.shape)"
   ]
  },
  {
   "cell_type": "code",
   "execution_count": 5,
   "metadata": {},
   "outputs": [
    {
     "data": {
      "text/plain": [
       "count       785\n",
       "unique        1\n",
       "top       False\n",
       "freq        785\n",
       "dtype: object"
      ]
     },
     "execution_count": 5,
     "metadata": {},
     "output_type": "execute_result"
    }
   ],
   "source": [
    "# check for null values\n",
    "train_df.isnull().any().describe()"
   ]
  },
  {
   "cell_type": "code",
   "execution_count": 6,
   "metadata": {},
   "outputs": [
    {
     "data": {
      "text/plain": [
       "count       784\n",
       "unique        1\n",
       "top       False\n",
       "freq        784\n",
       "dtype: object"
      ]
     },
     "execution_count": 6,
     "metadata": {},
     "output_type": "execute_result"
    }
   ],
   "source": [
    "# check for null values\n",
    "test_df.isnull().any().describe()"
   ]
  },
  {
   "cell_type": "code",
   "execution_count": 7,
   "metadata": {},
   "outputs": [],
   "source": [
    "(Y, X) = (train_df['label'], train_df.drop(['label'], axis = 1))"
   ]
  },
  {
   "cell_type": "markdown",
   "metadata": {},
   "source": [
    "## Data Visualization"
   ]
  },
  {
   "cell_type": "code",
   "execution_count": 8,
   "metadata": {},
   "outputs": [
    {
     "data": {
      "image/png": "[encoded data removed]",
      "text/plain": [
       "<Figure size 720x360 with 1 Axes>"
      ]
     },
     "metadata": {
      "needs_background": "light"
     },
     "output_type": "display_data"
    }
   ],
   "source": [
    "plt.figure(figsize = [10, 5])\n",
    "sns.countplot(Y);"
   ]
  },
  {
   "cell_type": "code",
   "execution_count": 9,
   "metadata": {},
   "outputs": [
    {
     "data": {
      "image/png": "[encoded data removed]",
      "text/plain": [
       "<Figure size 432x288 with 1 Axes>"
      ]
     },
     "metadata": {
      "needs_background": "light"
     },
     "output_type": "display_data"
    }
   ],
   "source": [
    "# see any image of the dataset\n",
    "i = 25\n",
    "img = X.values[i, :]\n",
    "img = img.reshape(28, 28)\n",
    "plt.imshow(255-img, cmap='gray');"
   ]
  },
  {
   "cell_type": "markdown",
   "metadata": {},
   "source": [
    "## Preprocessing of data"
   ]
  },
  {
   "cell_type": "code",
   "execution_count": 10,
   "metadata": {},
   "outputs": [],
   "source": [
    "from sklearn.model_selection import train_test_split"
   ]
  },
  {
   "cell_type": "code",
   "execution_count": 11,
   "metadata": {},
   "outputs": [
    {
     "name": "stdout",
     "output_type": "stream",
     "text": [
      "X_train shape:(29400, 784)\n",
      "Y_train shape:(29400, 1)\n",
      "X_val shape:(12600, 784)\n",
      "Y_val shape:(12600, 1)\n"
     ]
    }
   ],
   "source": [
    "# split into training and validation set\n",
    "(X_train, X_val, Y_train, Y_val) = train_test_split(X.values, Y.values, test_size=0.3)\n",
    "\n",
    "# Reshape the datasets\n",
    "Y_train = Y_train.reshape(X_train.shape[0], 1)\n",
    "Y_val = Y_val.reshape(X_val.shape[0], 1)\n",
    "\n",
    "# Explore the dataset\n",
    "print(\"X_train shape:\" + str(X_train.shape))\n",
    "print(\"Y_train shape:\" + str(Y_train.shape))\n",
    "print(\"X_val shape:\" + str(X_val.shape))\n",
    "print(\"Y_val shape:\" + str(Y_val.shape))"
   ]
  },
  {
   "cell_type": "code",
   "execution_count": 12,
   "metadata": {},
   "outputs": [],
   "source": [
    "# normalize the xalues\n",
    "X_train = X_train/255.0\n",
    "X_val = X_val/255.0"
   ]
  },
  {
   "cell_type": "markdown",
   "metadata": {},
   "source": [
    "## Deep Neural Network using Keras"
   ]
  },
  {
   "cell_type": "code",
   "execution_count": 13,
   "metadata": {},
   "outputs": [],
   "source": [
    "from keras.models import Sequential\n",
    "from keras.layers import Input, Dense"
   ]
  },
  {
   "cell_type": "code",
   "execution_count": 14,
   "metadata": {},
   "outputs": [],
   "source": [
    "# define the model\n",
    "model = Sequential()\n",
    "model.add(Input(shape = (784, )))\n",
    "model.add(Dense(35, activation = 'relu'))\n",
    "model.add(Dense(20, activation = 'relu'))\n",
    "model.add(Dense(10, activation = 'softmax'))"
   ]
  },
  {
   "cell_type": "code",
   "execution_count": 15,
   "metadata": {},
   "outputs": [
    {
     "name": "stdout",
     "output_type": "stream",
     "text": [
      "Model: \"sequential\"\n",
      "_________________________________________________________________\n",
      "Layer (type)                 Output Shape              Param #   \n",
      "=================================================================\n",
      "dense (Dense)                (None, 35)                27475     \n",
      "_________________________________________________________________\n",
      "dense_1 (Dense)              (None, 20)                720       \n",
      "_________________________________________________________________\n",
      "dense_2 (Dense)              (None, 10)                210       \n",
      "=================================================================\n",
      "Total params: 28,405\n",
      "Trainable params: 28,405\n",
      "Non-trainable params: 0\n",
      "_________________________________________________________________\n"
     ]
    }
   ],
   "source": [
    "# summary of the model\n",
    "model.summary()"
   ]
  },
  {
   "cell_type": "code",
   "execution_count": 16,
   "metadata": {},
   "outputs": [],
   "source": [
    "# compile the model\n",
    "model.compile(loss = 'sparse_categorical_crossentropy', optimizer = 'adam', metrics = ['accuracy'])"
   ]
  },
  {
   "cell_type": "code",
   "execution_count": 17,
   "metadata": {
    "scrolled": true
   },
   "outputs": [
    {
     "name": "stdout",
     "output_type": "stream",
     "text": [
      "Epoch 1/25\n",
      "46/46 [==============================] - 1s 19ms/step - loss: 1.5564 - accuracy: 0.5793 - val_loss: 0.8418 - val_accuracy: 0.8131\n",
      "Epoch 2/25\n",
      "46/46 [==============================] - 0s 6ms/step - loss: 0.5799 - accuracy: 0.8594 - val_loss: 0.4635 - val_accuracy: 0.8796\n",
      "Epoch 3/25\n",
      "46/46 [==============================] - 0s 6ms/step - loss: 0.3779 - accuracy: 0.8991 - val_loss: 0.3708 - val_accuracy: 0.8981\n",
      "Epoch 4/25\n",
      "46/46 [==============================] - 0s 6ms/step - loss: 0.3105 - accuracy: 0.9148 - val_loss: 0.3290 - val_accuracy: 0.9104\n",
      "Epoch 5/25\n",
      "46/46 [==============================] - 0s 6ms/step - loss: 0.2724 - accuracy: 0.9239 - val_loss: 0.2994 - val_accuracy: 0.9165\n",
      "Epoch 6/25\n",
      "46/46 [==============================] - 0s 7ms/step - loss: 0.2468 - accuracy: 0.9302 - val_loss: 0.2815 - val_accuracy: 0.9204\n",
      "Epoch 7/25\n",
      "46/46 [==============================] - 0s 6ms/step - loss: 0.2270 - accuracy: 0.9358 - val_loss: 0.2644 - val_accuracy: 0.9257\n",
      "Epoch 8/25\n",
      "46/46 [==============================] - 0s 6ms/step - loss: 0.2104 - accuracy: 0.9398 - val_loss: 0.2513 - val_accuracy: 0.9282\n",
      "Epoch 9/25\n",
      "46/46 [==============================] - 0s 6ms/step - loss: 0.1950 - accuracy: 0.9445 - val_loss: 0.2444 - val_accuracy: 0.9284\n",
      "Epoch 10/25\n",
      "46/46 [==============================] - 0s 6ms/step - loss: 0.1822 - accuracy: 0.9490 - val_loss: 0.2347 - val_accuracy: 0.9308\n",
      "Epoch 11/25\n",
      "46/46 [==============================] - 0s 5ms/step - loss: 0.1722 - accuracy: 0.9505 - val_loss: 0.2302 - val_accuracy: 0.9311\n",
      "Epoch 12/25\n",
      "46/46 [==============================] - 0s 6ms/step - loss: 0.1618 - accuracy: 0.9537 - val_loss: 0.2223 - val_accuracy: 0.9349\n",
      "Epoch 13/25\n",
      "46/46 [==============================] - 0s 5ms/step - loss: 0.1541 - accuracy: 0.9548 - val_loss: 0.2174 - val_accuracy: 0.9352\n",
      "Epoch 14/25\n",
      "46/46 [==============================] - 0s 6ms/step - loss: 0.1464 - accuracy: 0.9582 - val_loss: 0.2148 - val_accuracy: 0.9352\n",
      "Epoch 15/25\n",
      "46/46 [==============================] - 0s 5ms/step - loss: 0.1401 - accuracy: 0.9600 - val_loss: 0.2064 - val_accuracy: 0.9374\n",
      "Epoch 16/25\n",
      "46/46 [==============================] - 0s 7ms/step - loss: 0.1332 - accuracy: 0.9619 - val_loss: 0.2023 - val_accuracy: 0.9410\n",
      "Epoch 17/25\n",
      "46/46 [==============================] - 0s 7ms/step - loss: 0.1266 - accuracy: 0.9648 - val_loss: 0.2008 - val_accuracy: 0.9417\n",
      "Epoch 18/25\n",
      "46/46 [==============================] - 0s 6ms/step - loss: 0.1218 - accuracy: 0.9651 - val_loss: 0.2014 - val_accuracy: 0.9423\n",
      "Epoch 19/25\n",
      "46/46 [==============================] - 0s 7ms/step - loss: 0.1170 - accuracy: 0.9673 - val_loss: 0.1939 - val_accuracy: 0.9454\n",
      "Epoch 20/25\n",
      "46/46 [==============================] - 0s 6ms/step - loss: 0.1123 - accuracy: 0.9684 - val_loss: 0.1916 - val_accuracy: 0.9451\n",
      "Epoch 21/25\n",
      "46/46 [==============================] - 0s 7ms/step - loss: 0.1083 - accuracy: 0.9697 - val_loss: 0.1889 - val_accuracy: 0.9469\n",
      "Epoch 22/25\n",
      "46/46 [==============================] - 0s 7ms/step - loss: 0.1047 - accuracy: 0.9703 - val_loss: 0.1894 - val_accuracy: 0.9454\n",
      "Epoch 23/25\n",
      "46/46 [==============================] - 0s 6ms/step - loss: 0.0993 - accuracy: 0.9719 - val_loss: 0.1847 - val_accuracy: 0.9481\n",
      "Epoch 24/25\n",
      "46/46 [==============================] - 0s 7ms/step - loss: 0.0966 - accuracy: 0.9732 - val_loss: 0.1858 - val_accuracy: 0.9468\n",
      "Epoch 25/25\n",
      "46/46 [==============================] - 0s 6ms/step - loss: 0.0931 - accuracy: 0.9743 - val_loss: 0.1870 - val_accuracy: 0.9488\n"
     ]
    }
   ],
   "source": [
    "history = model.fit(X_train, Y_train, epochs = 25, batch_size = 512, validation_split = 0.2)"
   ]
  },
  {
   "cell_type": "code",
   "execution_count": 18,
   "metadata": {},
   "outputs": [
    {
     "data": {
      "image/png": "[encoded data removed]",
      "text/plain": [
       "<Figure size 432x288 with 1 Axes>"
      ]
     },
     "metadata": {
      "needs_background": "light"
     },
     "output_type": "display_data"
    },
    {
     "data": {
      "image/png": "[encoded data removed]",
      "text/plain": [
       "<Figure size 432x288 with 1 Axes>"
      ]
     },
     "metadata": {
      "needs_background": "light"
     },
     "output_type": "display_data"
    }
   ],
   "source": [
    "# plot training and validation accuracy values\n",
    "plt.plot(history.history['accuracy'])\n",
    "plt.plot(history.history['val_accuracy'])\n",
    "plt.title('Model accuracy')\n",
    "plt.xlabel('Epoch')\n",
    "plt.ylabel('Accuracy')\n",
    "plt.legend(['Train', 'Val'], loc = 'upper left')\n",
    "plt.show()\n",
    "\n",
    "# plot training and validation loss values\n",
    "plt.plot(history.history['loss'])\n",
    "plt.plot(history.history['val_loss'])\n",
    "plt.title('Model loss')\n",
    "plt.xlabel('Epoch')\n",
    "plt.ylabel('Loss')\n",
    "plt.legend(['Train', 'Val'], loc = 'upper left')\n",
    "plt.show()"
   ]
  },
  {
   "cell_type": "code",
   "execution_count": 19,
   "metadata": {},
   "outputs": [
    {
     "name": "stdout",
     "output_type": "stream",
     "text": [
      "919/919 [==============================] - 1s 2ms/step - loss: 0.1090 - accuracy: 0.9703\n",
      "394/394 [==============================] - 1s 1ms/step - loss: 0.1822 - accuracy: 0.9490\n",
      "Accuracy on train set is 97.027212%\n",
      "Accuracy on validation set is 94.896823%\n"
     ]
    }
   ],
   "source": [
    "# find the accuracy on train and validation set\n",
    "train_loss, train_acc = model.evaluate(X_train, Y_train)\n",
    "val_loss, val_acc = model.evaluate(X_val, Y_val)\n",
    "print(\"Accuracy on train set is %f\" %(train_acc * 100)  + \"%\")\n",
    "print(\"Accuracy on validation set is %f\" %(val_acc * 100)  + \"%\")"
   ]
  },
  {
   "cell_type": "markdown",
   "metadata": {},
   "source": [
    "## Using Sklearn"
   ]
  },
  {
   "cell_type": "code",
   "execution_count": 20,
   "metadata": {},
   "outputs": [],
   "source": [
    "# import the required modules\n",
    "from sklearn.svm import SVC\n",
    "from sklearn.metrics import accuracy_score, confusion_matrix, classification_report"
   ]
  },
  {
   "cell_type": "code",
   "execution_count": 21,
   "metadata": {},
   "outputs": [
    {
     "name": "stderr",
     "output_type": "stream",
     "text": [
      "C:\\ProgramData\\Anaconda3\\lib\\site-packages\\sklearn\\utils\\validation.py:73: DataConversionWarning: A column-vector y was passed when a 1d array was expected. Please change the shape of y to (n_samples, ), for example using ravel().\n",
      "  return f(**kwargs)\n"
     ]
    },
    {
     "name": "stdout",
     "output_type": "stream",
     "text": [
      "SVM train score:  93.47\n",
      "SVM validation score:  92.63\n",
      "Classification Report: \n",
      "               precision    recall  f1-score   support\n",
      "\n",
      "           0       0.97      0.96      0.97      1196\n",
      "           1       0.94      0.97      0.96      1420\n",
      "           2       0.93      0.92      0.92      1310\n",
      "           3       0.91      0.89      0.90      1331\n",
      "           4       0.91      0.95      0.93      1177\n",
      "           5       0.88      0.90      0.89      1175\n",
      "           6       0.94      0.96      0.95      1212\n",
      "           7       0.95      0.93      0.94      1308\n",
      "           8       0.91      0.88      0.90      1205\n",
      "           9       0.92      0.89      0.91      1266\n",
      "\n",
      "    accuracy                           0.93     12600\n",
      "   macro avg       0.93      0.93      0.93     12600\n",
      "weighted avg       0.93      0.93      0.93     12600\n",
      "\n",
      "Confusion Matrix:\n",
      " [[1153    0    3    2    5   11   12    1    8    1]\n",
      " [   0 1384    4    4    1    7    4    1   11    4]\n",
      " [   5    8 1205   11   17    6   16   14   24    4]\n",
      " [   3    7   25 1182    2   55    6   18   25    8]\n",
      " [   3    4   10    0 1114    1    5    1    1   38]\n",
      " [   6   15    7   39    7 1057   24    2   12    6]\n",
      " [   8    3    8    0    9   12 1167    0    5    0]\n",
      " [   0   16   18    1   23    6    0 1214    2   28]\n",
      " [   2   30   13   21    8   38   12    6 1064   11]\n",
      " [   6    3    7   32   43   10    1   21   11 1132]]\n"
     ]
    }
   ],
   "source": [
    "svm_cl = SVC(gamma=0.001)\n",
    "svm_cl.fit(X_train, Y_train)\n",
    "\n",
    "# train score\n",
    "svm_train_score = round(svm_cl.score(X_train, Y_train) * 100, 2)\n",
    "svm_val_score = round(svm_cl.score(X_val, Y_val) * 100, 2)\n",
    "# predicted output\n",
    "Y_pred_svm = svm_cl.predict(X_val)\n",
    "\n",
    "print('SVM train score: ', svm_train_score)\n",
    "print('SVM validation score: ', svm_val_score)\n",
    "print('Classification Report: \\n', classification_report(Y_val, Y_pred_svm))\n",
    "print('Confusion Matrix:\\n', confusion_matrix(Y_val, Y_pred_svm))"
   ]
  },
  {
   "cell_type": "markdown",
   "metadata": {},
   "source": [
    "## Generate and write the outputs to the csv file"
   ]
  },
  {
   "cell_type": "code",
   "execution_count": 22,
   "metadata": {},
   "outputs": [
    {
     "name": "stdout",
     "output_type": "stream",
     "text": [
      "WARNING:tensorflow:From <ipython-input-22-0862f807f5ef>:2: Sequential.predict_classes (from tensorflow.python.keras.engine.sequential) is deprecated and will be removed after 2021-01-01.\n",
      "Instructions for updating:\n",
      "Please use instead:* `np.argmax(model.predict(x), axis=-1)`,   if your model does multi-class classification   (e.g. if it uses a `softmax` last-layer activation).* `(model.predict(x) > 0.5).astype(\"int32\")`,   if your model does binary classification   (e.g. if it uses a `sigmoid` last-layer activation).\n"
     ]
    }
   ],
   "source": [
    "X_test = test_df.values\n",
    "Y_test = model.predict_classes(X_test)"
   ]
  },
  {
   "cell_type": "code",
   "execution_count": 23,
   "metadata": {},
   "outputs": [
    {
     "name": "stdout",
     "output_type": "stream",
     "text": [
      "The model predicted it as: 2\n"
     ]
    },
    {
     "data": {
      "image/png": "[encoded data removed]",
      "text/plain": [
       "<Figure size 432x288 with 1 Axes>"
      ]
     },
     "metadata": {
      "needs_background": "light"
     },
     "output_type": "display_data"
    }
   ],
   "source": [
    "# check the predictions\n",
    "i = 0\n",
    "img = X_test[i, :]\n",
    "img = img.reshape(28, 28)\n",
    "plt.imshow(255-img, cmap='gray')\n",
    "\n",
    "print(\"The model predicted it as: %i\" %Y_test[i])"
   ]
  },
  {
   "cell_type": "code",
   "execution_count": 24,
   "metadata": {},
   "outputs": [],
   "source": [
    "ids = np.array([i + 1 for i in range(X_test.shape[0])])\n",
    "ans = {'ImageId': ids, 'Label': Y_test}"
   ]
  },
  {
   "cell_type": "code",
   "execution_count": 25,
   "metadata": {},
   "outputs": [],
   "source": [
    "df = pd.DataFrame(ans)"
   ]
  },
  {
   "cell_type": "code",
   "execution_count": 26,
   "metadata": {},
   "outputs": [],
   "source": [
    "df.to_csv('output.csv', index = False)"
   ]
  },
  {
   "cell_type": "code",
   "execution_count": null,
   "metadata": {},
   "outputs": [],
   "source": []
  }
 ],
 "metadata": {
  "kernelspec": {
   "display_name": "Python 3",
   "language": "python",
   "name": "python3"
  },
  "language_info": {
   "codemirror_mode": {
    "name": "ipython",
    "version": 3
   },
   "file_extension": ".py",
   "mimetype": "text/x-python",
   "name": "python",
   "nbconvert_exporter": "python",
   "pygments_lexer": "ipython3",
   "version": "3.8.3"
  }
 },
 "nbformat": 4,
 "nbformat_minor": 4
}

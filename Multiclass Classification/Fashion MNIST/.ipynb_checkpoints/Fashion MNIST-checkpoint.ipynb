{
 "cells": [
  {
   "cell_type": "markdown",
   "metadata": {},
   "source": [
    "# Fashion MNIST\n",
    "Classify each image as correct type of Fashion Wear."
   ]
  },
  {
   "cell_type": "code",
   "execution_count": 1,
   "metadata": {},
   "outputs": [],
   "source": [
    "# import all required libraries for reading, analysing and visualizing data\n",
    "import numpy as np\n",
    "import matplotlib.pyplot as plt\n",
    "import seaborn as sns\n",
    "from tensorflow import keras"
   ]
  },
  {
   "cell_type": "markdown",
   "metadata": {},
   "source": [
    "## Load the dataset"
   ]
  },
  {
   "cell_type": "code",
   "execution_count": 2,
   "metadata": {},
   "outputs": [],
   "source": [
    "(X_train, Y_train), (X_test, Y_test) = keras.datasets.fashion_mnist.load_data()"
   ]
  },
  {
   "cell_type": "markdown",
   "metadata": {},
   "source": [
    "## Preprocessing of data"
   ]
  },
  {
   "cell_type": "code",
   "execution_count": 3,
   "metadata": {},
   "outputs": [
    {
     "name": "stdout",
     "output_type": "stream",
     "text": [
      "X_train shape: (60000, 784)\n",
      "Y_train shape: (60000, 1)\n",
      "X_test shape: (10000, 784)\n",
      "Y_test shape: (10000, 1)\n"
     ]
    }
   ],
   "source": [
    "X_train = X_train.reshape(X_train.shape[0], 784)\n",
    "X_test = X_test.reshape(X_test.shape[0], 784)\n",
    "Y_train = Y_train.reshape(X_train.shape[0], 1)\n",
    "Y_test = Y_test.reshape(X_test.shape[0], 1)\n",
    "\n",
    "# Explore the dataset\n",
    "print(\"X_train shape:\", X_train.shape)\n",
    "print(\"Y_train shape:\", Y_train.shape)\n",
    "print(\"X_test shape:\", X_test.shape)\n",
    "print(\"Y_test shape:\", Y_test.shape)"
   ]
  },
  {
   "cell_type": "code",
   "execution_count": 4,
   "metadata": {},
   "outputs": [],
   "source": [
    "# normalize the xalues\n",
    "X_train = X_train/255.0\n",
    "X_test = X_test/255.0"
   ]
  },
  {
   "cell_type": "markdown",
   "metadata": {},
   "source": [
    "## Data Visualization\n",
    "* 0 - T-shirt/top\n",
    "* 1 - Trouser\n",
    "* 2 - Pullover\n",
    "* 3 - Dress\n",
    "* 4 - Coat\n",
    "* 5 - Sandal\n",
    "* 6 - Shirt\n",
    "* 7 - Sneaker\n",
    "* 8 - Bag\n",
    "* 9 - Ankle boot"
   ]
  },
  {
   "cell_type": "code",
   "execution_count": 5,
   "metadata": {},
   "outputs": [
    {
     "data": {
      "image/png": "[encoded data removed]",
      "text/plain": [
       "<Figure size 720x360 with 1 Axes>"
      ]
     },
     "metadata": {
      "needs_background": "light"
     },
     "output_type": "display_data"
    }
   ],
   "source": [
    "plt.figure(figsize = [10, 5])\n",
    "sns.countplot(Y_train[:,0]);"
   ]
  },
  {
   "cell_type": "code",
   "execution_count": 6,
   "metadata": {},
   "outputs": [
    {
     "data": {
      "image/png": "[encoded data removed]",
      "text/plain": [
       "<Figure size 720x360 with 1 Axes>"
      ]
     },
     "metadata": {
      "needs_background": "light"
     },
     "output_type": "display_data"
    }
   ],
   "source": [
    "plt.figure(figsize = [10, 5])\n",
    "sns.countplot(Y_test[:,0]);"
   ]
  },
  {
   "cell_type": "code",
   "execution_count": 7,
   "metadata": {},
   "outputs": [],
   "source": [
    "mapping = {0: 'T-shirt/top', 1: 'Trouser', 2: 'Pullover', 3: 'Dress', 4: 'Coat', 5: 'Sandal', 6: 'Shirt', 7: 'Sneaker', 8: 'Bag', 9: 'Ankle boot'}"
   ]
  },
  {
   "cell_type": "code",
   "execution_count": 8,
   "metadata": {},
   "outputs": [
    {
     "data": {
      "image/png": "[encoded data removed]",
      "text/plain": [
       "<Figure size 432x288 with 1 Axes>"
      ]
     },
     "metadata": {
      "needs_background": "light"
     },
     "output_type": "display_data"
    }
   ],
   "source": [
    "# see any image of the dataset\n",
    "i = 0\n",
    "img = X_train[i, :]\n",
    "img = img.reshape(28, 28)\n",
    "plt.imshow(255 - img, cmap = 'gray')\n",
    "plt.title(mapping[Y_train[i][0]]);"
   ]
  },
  {
   "cell_type": "markdown",
   "metadata": {},
   "source": [
    "## Deep Neural Network using Keras"
   ]
  },
  {
   "cell_type": "code",
   "execution_count": 9,
   "metadata": {},
   "outputs": [],
   "source": [
    "from keras.models import Sequential\n",
    "from keras.layers import Input, Dense"
   ]
  },
  {
   "cell_type": "code",
   "execution_count": 10,
   "metadata": {},
   "outputs": [],
   "source": [
    "# define the model\n",
    "model = Sequential()\n",
    "model.add(Input(shape = (784, )))\n",
    "model.add(Dense(30, activation = 'relu'))\n",
    "model.add(Dense(20, activation = 'relu'))\n",
    "model.add(Dense(10, activation = 'softmax'))"
   ]
  },
  {
   "cell_type": "code",
   "execution_count": 11,
   "metadata": {},
   "outputs": [
    {
     "name": "stdout",
     "output_type": "stream",
     "text": [
      "Model: \"sequential\"\n",
      "_________________________________________________________________\n",
      "Layer (type)                 Output Shape              Param #   \n",
      "=================================================================\n",
      "dense (Dense)                (None, 30)                23550     \n",
      "_________________________________________________________________\n",
      "dense_1 (Dense)              (None, 20)                620       \n",
      "_________________________________________________________________\n",
      "dense_2 (Dense)              (None, 10)                210       \n",
      "=================================================================\n",
      "Total params: 24,380\n",
      "Trainable params: 24,380\n",
      "Non-trainable params: 0\n",
      "_________________________________________________________________\n"
     ]
    }
   ],
   "source": [
    "# summary of the model\n",
    "model.summary()"
   ]
  },
  {
   "cell_type": "code",
   "execution_count": 12,
   "metadata": {},
   "outputs": [],
   "source": [
    "# compile the model\n",
    "model.compile(optimizer = 'adam', loss = 'sparse_categorical_crossentropy', metrics = ['accuracy'])"
   ]
  },
  {
   "cell_type": "code",
   "execution_count": 13,
   "metadata": {
    "scrolled": true
   },
   "outputs": [
    {
     "name": "stdout",
     "output_type": "stream",
     "text": [
      "Epoch 1/50\n",
      "94/94 [==============================] - 1s 12ms/step - loss: 1.2943 - accuracy: 0.5341 - val_loss: 0.7417 - val_accuracy: 0.7342\n",
      "Epoch 2/50\n",
      "94/94 [==============================] - 1s 6ms/step - loss: 0.6256 - accuracy: 0.7790 - val_loss: 0.5386 - val_accuracy: 0.8122\n",
      "Epoch 3/50\n",
      "94/94 [==============================] - 1s 5ms/step - loss: 0.4991 - accuracy: 0.8275 - val_loss: 0.4746 - val_accuracy: 0.8362\n",
      "Epoch 4/50\n",
      "94/94 [==============================] - 0s 5ms/step - loss: 0.4503 - accuracy: 0.8439 - val_loss: 0.4466 - val_accuracy: 0.8412\n",
      "Epoch 5/50\n",
      "94/94 [==============================] - 0s 5ms/step - loss: 0.4234 - accuracy: 0.8523 - val_loss: 0.4331 - val_accuracy: 0.8465\n",
      "Epoch 6/50\n",
      "94/94 [==============================] - 0s 5ms/step - loss: 0.4069 - accuracy: 0.8576 - val_loss: 0.4176 - val_accuracy: 0.8522\n",
      "Epoch 7/50\n",
      "94/94 [==============================] - 0s 5ms/step - loss: 0.3950 - accuracy: 0.8611 - val_loss: 0.4066 - val_accuracy: 0.8593\n",
      "Epoch 8/50\n",
      "94/94 [==============================] - 0s 5ms/step - loss: 0.3815 - accuracy: 0.8658 - val_loss: 0.4055 - val_accuracy: 0.8592\n",
      "Epoch 9/50\n",
      "94/94 [==============================] - 0s 5ms/step - loss: 0.3738 - accuracy: 0.8683 - val_loss: 0.3931 - val_accuracy: 0.8620\n",
      "Epoch 10/50\n",
      "94/94 [==============================] - 1s 5ms/step - loss: 0.3641 - accuracy: 0.8713 - val_loss: 0.3850 - val_accuracy: 0.8657\n",
      "Epoch 11/50\n",
      "94/94 [==============================] - 0s 5ms/step - loss: 0.3550 - accuracy: 0.8752 - val_loss: 0.3818 - val_accuracy: 0.8640\n",
      "Epoch 12/50\n",
      "94/94 [==============================] - 0s 5ms/step - loss: 0.3484 - accuracy: 0.8768 - val_loss: 0.3860 - val_accuracy: 0.8652\n",
      "Epoch 13/50\n",
      "94/94 [==============================] - 0s 5ms/step - loss: 0.3436 - accuracy: 0.8780 - val_loss: 0.3725 - val_accuracy: 0.8696\n",
      "Epoch 14/50\n",
      "94/94 [==============================] - 0s 5ms/step - loss: 0.3372 - accuracy: 0.8806 - val_loss: 0.3683 - val_accuracy: 0.8700\n",
      "Epoch 15/50\n",
      "94/94 [==============================] - 0s 5ms/step - loss: 0.3317 - accuracy: 0.8810 - val_loss: 0.3681 - val_accuracy: 0.8706\n",
      "Epoch 16/50\n",
      "94/94 [==============================] - 0s 5ms/step - loss: 0.3271 - accuracy: 0.8836 - val_loss: 0.3723 - val_accuracy: 0.8685\n",
      "Epoch 17/50\n",
      "94/94 [==============================] - 0s 5ms/step - loss: 0.3229 - accuracy: 0.8845 - val_loss: 0.3636 - val_accuracy: 0.8713\n",
      "Epoch 18/50\n",
      "94/94 [==============================] - 0s 5ms/step - loss: 0.3187 - accuracy: 0.8857 - val_loss: 0.3675 - val_accuracy: 0.8709\n",
      "Epoch 19/50\n",
      "94/94 [==============================] - 0s 5ms/step - loss: 0.3143 - accuracy: 0.8873 - val_loss: 0.3598 - val_accuracy: 0.8733\n",
      "Epoch 20/50\n",
      "94/94 [==============================] - 0s 5ms/step - loss: 0.3117 - accuracy: 0.8881 - val_loss: 0.3589 - val_accuracy: 0.8740\n",
      "Epoch 21/50\n",
      "94/94 [==============================] - 1s 5ms/step - loss: 0.3092 - accuracy: 0.8894 - val_loss: 0.3649 - val_accuracy: 0.8718\n",
      "Epoch 22/50\n",
      "94/94 [==============================] - 0s 5ms/step - loss: 0.3026 - accuracy: 0.8915 - val_loss: 0.3573 - val_accuracy: 0.8737\n",
      "Epoch 23/50\n",
      "94/94 [==============================] - 1s 5ms/step - loss: 0.2995 - accuracy: 0.8936 - val_loss: 0.3542 - val_accuracy: 0.8744\n",
      "Epoch 24/50\n",
      "94/94 [==============================] - 1s 6ms/step - loss: 0.2997 - accuracy: 0.8917 - val_loss: 0.3561 - val_accuracy: 0.8745\n",
      "Epoch 25/50\n",
      "94/94 [==============================] - 1s 5ms/step - loss: 0.2940 - accuracy: 0.8947 - val_loss: 0.3637 - val_accuracy: 0.8703\n",
      "Epoch 26/50\n",
      "94/94 [==============================] - 0s 5ms/step - loss: 0.2952 - accuracy: 0.8942 - val_loss: 0.3535 - val_accuracy: 0.8755\n",
      "Epoch 27/50\n",
      "94/94 [==============================] - 0s 5ms/step - loss: 0.2902 - accuracy: 0.8957 - val_loss: 0.3569 - val_accuracy: 0.8766\n",
      "Epoch 28/50\n",
      "94/94 [==============================] - 1s 5ms/step - loss: 0.2877 - accuracy: 0.8965 - val_loss: 0.3528 - val_accuracy: 0.8749\n",
      "Epoch 29/50\n",
      "94/94 [==============================] - 0s 5ms/step - loss: 0.2829 - accuracy: 0.8989 - val_loss: 0.3544 - val_accuracy: 0.8755\n",
      "Epoch 30/50\n",
      "94/94 [==============================] - 1s 5ms/step - loss: 0.2824 - accuracy: 0.8984 - val_loss: 0.3664 - val_accuracy: 0.8697\n",
      "Epoch 31/50\n",
      "94/94 [==============================] - 1s 5ms/step - loss: 0.2809 - accuracy: 0.8991 - val_loss: 0.3526 - val_accuracy: 0.8776\n",
      "Epoch 32/50\n",
      "94/94 [==============================] - 0s 5ms/step - loss: 0.2764 - accuracy: 0.9007 - val_loss: 0.3519 - val_accuracy: 0.8758\n",
      "Epoch 33/50\n",
      "94/94 [==============================] - 0s 5ms/step - loss: 0.2805 - accuracy: 0.8975 - val_loss: 0.3594 - val_accuracy: 0.8750\n",
      "Epoch 34/50\n",
      "94/94 [==============================] - 0s 5ms/step - loss: 0.2742 - accuracy: 0.9007 - val_loss: 0.3518 - val_accuracy: 0.8763\n",
      "Epoch 35/50\n",
      "94/94 [==============================] - ETA: 0s - loss: 0.2691 - accuracy: 0.90 - 0s 5ms/step - loss: 0.2700 - accuracy: 0.9024 - val_loss: 0.3520 - val_accuracy: 0.8748\n",
      "Epoch 36/50\n",
      "94/94 [==============================] - 0s 5ms/step - loss: 0.2678 - accuracy: 0.9034 - val_loss: 0.3528 - val_accuracy: 0.8746\n",
      "Epoch 37/50\n",
      "94/94 [==============================] - 0s 5ms/step - loss: 0.2665 - accuracy: 0.9037 - val_loss: 0.3492 - val_accuracy: 0.8773\n",
      "Epoch 38/50\n",
      "94/94 [==============================] - 0s 5ms/step - loss: 0.2677 - accuracy: 0.9033 - val_loss: 0.3560 - val_accuracy: 0.8744\n",
      "Epoch 39/50\n",
      "94/94 [==============================] - 0s 5ms/step - loss: 0.2623 - accuracy: 0.9047 - val_loss: 0.3494 - val_accuracy: 0.8759\n",
      "Epoch 40/50\n",
      "94/94 [==============================] - 0s 5ms/step - loss: 0.2602 - accuracy: 0.9064 - val_loss: 0.3488 - val_accuracy: 0.8768\n",
      "Epoch 41/50\n",
      "94/94 [==============================] - 0s 5ms/step - loss: 0.2612 - accuracy: 0.9062 - val_loss: 0.3521 - val_accuracy: 0.8747\n",
      "Epoch 42/50\n",
      "94/94 [==============================] - 0s 5ms/step - loss: 0.2594 - accuracy: 0.9065 - val_loss: 0.3527 - val_accuracy: 0.8771\n",
      "Epoch 43/50\n",
      "94/94 [==============================] - 0s 5ms/step - loss: 0.2574 - accuracy: 0.9074 - val_loss: 0.3520 - val_accuracy: 0.8769\n",
      "Epoch 44/50\n",
      "94/94 [==============================] - 0s 5ms/step - loss: 0.2529 - accuracy: 0.9089 - val_loss: 0.3506 - val_accuracy: 0.8768\n",
      "Epoch 45/50\n",
      "94/94 [==============================] - 0s 5ms/step - loss: 0.2530 - accuracy: 0.9079 - val_loss: 0.3749 - val_accuracy: 0.8683\n",
      "Epoch 46/50\n",
      "94/94 [==============================] - 1s 6ms/step - loss: 0.2531 - accuracy: 0.9088 - val_loss: 0.3643 - val_accuracy: 0.8717\n",
      "Epoch 47/50\n",
      "94/94 [==============================] - 1s 6ms/step - loss: 0.2496 - accuracy: 0.9094 - val_loss: 0.3579 - val_accuracy: 0.8724\n",
      "Epoch 48/50\n",
      "94/94 [==============================] - 1s 7ms/step - loss: 0.2467 - accuracy: 0.9110 - val_loss: 0.3534 - val_accuracy: 0.8767\n",
      "Epoch 49/50\n",
      "94/94 [==============================] - 1s 6ms/step - loss: 0.2456 - accuracy: 0.9115 - val_loss: 0.3636 - val_accuracy: 0.8748\n",
      "Epoch 50/50\n",
      "94/94 [==============================] - 1s 7ms/step - loss: 0.2461 - accuracy: 0.9113 - val_loss: 0.3562 - val_accuracy: 0.8763\n"
     ]
    }
   ],
   "source": [
    "history = model.fit(X_train, Y_train, epochs = 50, batch_size = 512, validation_split = 0.2)"
   ]
  },
  {
   "cell_type": "code",
   "execution_count": 14,
   "metadata": {},
   "outputs": [
    {
     "data": {
      "image/png": "[encoded data removed]",
      "text/plain": [
       "<Figure size 432x288 with 1 Axes>"
      ]
     },
     "metadata": {
      "needs_background": "light"
     },
     "output_type": "display_data"
    },
    {
     "data": {
      "image/png": "[encoded data removed]",
      "text/plain": [
       "<Figure size 432x288 with 1 Axes>"
      ]
     },
     "metadata": {
      "needs_background": "light"
     },
     "output_type": "display_data"
    }
   ],
   "source": [
    "# plot training and validation accuracy values\n",
    "plt.plot(history.history['accuracy'])\n",
    "plt.plot(history.history['val_accuracy'])\n",
    "plt.title('Model accuracy')\n",
    "plt.xlabel('Epoch')\n",
    "plt.ylabel('Accuracy')\n",
    "plt.legend(['Train', 'Val'], loc = 'upper left')\n",
    "plt.show()\n",
    "\n",
    "# plot training and validation loss values\n",
    "plt.plot(history.history['loss'])\n",
    "plt.plot(history.history['val_loss'])\n",
    "plt.title('Model loss')\n",
    "plt.xlabel('Epoch')\n",
    "plt.ylabel('Loss')\n",
    "plt.legend(['Train', 'Val'], loc = 'upper left')\n",
    "plt.show()"
   ]
  },
  {
   "cell_type": "code",
   "execution_count": 15,
   "metadata": {},
   "outputs": [
    {
     "name": "stdout",
     "output_type": "stream",
     "text": [
      "1875/1875 [==============================] - 4s 2ms/step - loss: 0.2670 - accuracy: 0.9043\n",
      "313/313 [==============================] - 0s 1ms/step - loss: 0.3841 - accuracy: 0.8697\n",
      "Accuracy on train set is 90.428334%\n",
      "Accuracy on validation set is 86.970001%\n"
     ]
    }
   ],
   "source": [
    "# find the accuracy on train and test set\n",
    "train_loss, train_acc = model.evaluate(X_train, Y_train)\n",
    "test_loss, test_acc = model.evaluate(X_test, Y_test)\n",
    "print(\"Accuracy on train set is %f\" %(train_acc * 100)  + \"%\")\n",
    "print(\"Accuracy on validation set is %f\" %(test_acc * 100)  + \"%\")"
   ]
  },
  {
   "cell_type": "markdown",
   "metadata": {},
   "source": [
    "## Using Scikit-learn MLPClassifier"
   ]
  },
  {
   "cell_type": "code",
   "execution_count": 16,
   "metadata": {},
   "outputs": [],
   "source": [
    "from sklearn.neural_network import MLPClassifier\n",
    "from sklearn.metrics import classification_report, confusion_matrix"
   ]
  },
  {
   "cell_type": "code",
   "execution_count": 17,
   "metadata": {},
   "outputs": [
    {
     "name": "stderr",
     "output_type": "stream",
     "text": [
      "C:\\ProgramData\\Anaconda3\\lib\\site-packages\\sklearn\\utils\\validation.py:73: DataConversionWarning: A column-vector y was passed when a 1d array was expected. Please change the shape of y to (n_samples, ), for example using ravel().\n",
      "  return f(**kwargs)\n",
      "C:\\ProgramData\\Anaconda3\\lib\\site-packages\\sklearn\\neural_network\\_multilayer_perceptron.py:582: ConvergenceWarning: Stochastic Optimizer: Maximum iterations (50) reached and the optimization hasn't converged yet.\n",
      "  warnings.warn(\n"
     ]
    },
    {
     "name": "stdout",
     "output_type": "stream",
     "text": [
      "MLP train score:  92.39\n",
      "MLP test score:  87.65\n",
      "Classification Report: \n",
      "               precision    recall  f1-score   support\n",
      "\n",
      "           0       0.81      0.84      0.83      1000\n",
      "           1       0.99      0.97      0.98      1000\n",
      "           2       0.78      0.81      0.80      1000\n",
      "           3       0.86      0.90      0.88      1000\n",
      "           4       0.75      0.85      0.80      1000\n",
      "           5       0.95      0.95      0.95      1000\n",
      "           6       0.75      0.61      0.67      1000\n",
      "           7       0.95      0.93      0.94      1000\n",
      "           8       0.97      0.95      0.96      1000\n",
      "           9       0.94      0.96      0.95      1000\n",
      "\n",
      "    accuracy                           0.88     10000\n",
      "   macro avg       0.88      0.88      0.88     10000\n",
      "weighted avg       0.88      0.88      0.88     10000\n",
      "\n",
      "Confusion Matrix:\n",
      " [[840   2  14  37   7   1  94   0   5   0]\n",
      " [  2 968   3  19   5   0   1   0   2   0]\n",
      " [ 18   1 808  14 115   0  43   0   1   0]\n",
      " [ 22   3   9 900  39   1  25   0   1   0]\n",
      " [  1   1  84  30 848   0  33   0   3   0]\n",
      " [  0   0   0   0   0 955   0  16   4  25]\n",
      " [136   1 106  32 109   0 606   0  10   0]\n",
      " [  1   0   0   0   0  30   0 932   2  35]\n",
      " [ 14   1   6  11   6   6   6   4 946   0]\n",
      " [  0   0   0   1   0   9   1  27   0 962]]\n"
     ]
    }
   ],
   "source": [
    "mlp_clf = MLPClassifier(hidden_layer_sizes = (30, 20), solver = 'adam', activation = 'relu', max_iter = 50)\n",
    "mlp_clf.fit(X_train, Y_train)\n",
    "\n",
    "# train score\n",
    "mlp_train_score = round(mlp_clf.score(X_train, Y_train) * 100, 2)\n",
    "mlp_test_score = round(mlp_clf.score(X_test, Y_test) * 100, 2)\n",
    "# predicted output\n",
    "Y_pred_mlp = mlp_clf.predict(X_test)\n",
    "\n",
    "print('MLP train score: ', mlp_train_score)\n",
    "print('MLP test score: ', mlp_test_score)\n",
    "print('Classification Report: \\n', classification_report(Y_test, Y_pred_mlp))\n",
    "print('Confusion Matrix:\\n', confusion_matrix(Y_test, Y_pred_mlp))"
   ]
  },
  {
   "cell_type": "code",
   "execution_count": null,
   "metadata": {},
   "outputs": [],
   "source": []
  }
 ],
 "metadata": {
  "kernelspec": {
   "display_name": "Python 3",
   "language": "python",
   "name": "python3"
  },
  "language_info": {
   "codemirror_mode": {
    "name": "ipython",
    "version": 3
   },
   "file_extension": ".py",
   "mimetype": "text/x-python",
   "name": "python",
   "nbconvert_exporter": "python",
   "pygments_lexer": "ipython3",
   "version": "3.8.3"
  }
 },
 "nbformat": 4,
 "nbformat_minor": 4
}

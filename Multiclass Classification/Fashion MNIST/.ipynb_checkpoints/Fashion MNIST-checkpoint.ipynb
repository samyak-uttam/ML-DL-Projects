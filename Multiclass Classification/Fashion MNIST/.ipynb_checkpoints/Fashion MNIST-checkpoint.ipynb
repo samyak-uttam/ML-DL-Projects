{
 "cells": [
  {
   "cell_type": "markdown",
   "metadata": {},
   "source": [
    "# Fashion MNIST\n",
    "Classify each image as correct type of Fashion Wear."
   ]
  },
  {
   "cell_type": "code",
   "execution_count": 1,
   "metadata": {},
   "outputs": [],
   "source": [
    "# import all required libraries for reading, analysing and visualizing data\n",
    "import numpy as np\n",
    "import matplotlib.pyplot as plt\n",
    "import seaborn as sns\n",
    "from tensorflow import keras"
   ]
  },
  {
   "cell_type": "markdown",
   "metadata": {},
   "source": [
    "## Load the dataset"
   ]
  },
  {
   "cell_type": "code",
   "execution_count": 2,
   "metadata": {},
   "outputs": [],
   "source": [
    "(X_train, Y_train), (X_test, Y_test) = keras.datasets.fashion_mnist.load_data()"
   ]
  },
  {
   "cell_type": "markdown",
   "metadata": {},
   "source": [
    "## Preprocessing of data"
   ]
  },
  {
   "cell_type": "code",
   "execution_count": 3,
   "metadata": {},
   "outputs": [
    {
     "name": "stdout",
     "output_type": "stream",
     "text": [
      "X_train shape: (60000, 784)\n",
      "Y_train shape: (60000, 1)\n",
      "X_test shape: (10000, 784)\n",
      "Y_test shape: (10000, 1)\n"
     ]
    }
   ],
   "source": [
    "X_train = X_train.reshape(X_train.shape[0], 784)\n",
    "X_test = X_test.reshape(X_test.shape[0], 784)\n",
    "Y_train = Y_train.reshape(X_train.shape[0], 1)\n",
    "Y_test = Y_test.reshape(X_test.shape[0], 1)\n",
    "\n",
    "# Explore the dataset\n",
    "print(\"X_train shape:\", X_train.shape)\n",
    "print(\"Y_train shape:\", Y_train.shape)\n",
    "print(\"X_test shape:\", X_test.shape)\n",
    "print(\"Y_test shape:\", Y_test.shape)"
   ]
  },
  {
   "cell_type": "code",
   "execution_count": 4,
   "metadata": {},
   "outputs": [],
   "source": [
    "# normalize the xalues\n",
    "X_train = X_train/255.0\n",
    "X_test = X_test/255.0"
   ]
  },
  {
   "cell_type": "markdown",
   "metadata": {},
   "source": [
    "## Data Visualization\n",
    "* 0 - T-shirt/top\n",
    "* 1 - Trouser\n",
    "* 2 - Pullover\n",
    "* 3 - Dress\n",
    "* 4 - Coat\n",
    "* 5 - Sandal\n",
    "* 6 - Shirt\n",
    "* 7 - Sneaker\n",
    "* 8 - Bag\n",
    "* 9 - Ankle boot"
   ]
  },
  {
   "cell_type": "code",
   "execution_count": 5,
   "metadata": {},
   "outputs": [
    {
     "data": {
      "image/png": "[encoded data removed]",
      "text/plain": [
       "<Figure size 720x360 with 1 Axes>"
      ]
     },
     "metadata": {
      "needs_background": "light"
     },
     "output_type": "display_data"
    }
   ],
   "source": [
    "plt.figure(figsize = [10, 5])\n",
    "sns.countplot(Y_train[:,0]);"
   ]
  },
  {
   "cell_type": "code",
   "execution_count": 6,
   "metadata": {},
   "outputs": [
    {
     "data": {
      "image/png": "[encoded data removed]",
      "text/plain": [
       "<Figure size 720x360 with 1 Axes>"
      ]
     },
     "metadata": {
      "needs_background": "light"
     },
     "output_type": "display_data"
    }
   ],
   "source": [
    "plt.figure(figsize = [10, 5])\n",
    "sns.countplot(Y_test[:,0]);"
   ]
  },
  {
   "cell_type": "code",
   "execution_count": 7,
   "metadata": {},
   "outputs": [],
   "source": [
    "mapping = {0: 'T-shirt/top', 1: 'Trouser', 2: 'Pullover', 3: 'Dress', 4: 'Coat', 5: 'Sandal', 6: 'Shirt', 7: 'Sneaker', 8: 'Bag', 9: 'Ankle boot'}"
   ]
  },
  {
   "cell_type": "code",
   "execution_count": 8,
   "metadata": {},
   "outputs": [
    {
     "data": {
      "image/png": "[encoded data removed]",
      "text/plain": [
       "<Figure size 432x288 with 1 Axes>"
      ]
     },
     "metadata": {
      "needs_background": "light"
     },
     "output_type": "display_data"
    }
   ],
   "source": [
    "# see any image of the dataset\n",
    "i = 0\n",
    "img = X_train[i, :]\n",
    "img = img.reshape(28, 28)\n",
    "plt.imshow(255 - img, cmap = 'gray')\n",
    "plt.title(mapping[Y_train[i][0]]);"
   ]
  },
  {
   "cell_type": "markdown",
   "metadata": {},
   "source": [
    "## Deep Neural Network using Keras"
   ]
  },
  {
   "cell_type": "code",
   "execution_count": 9,
   "metadata": {},
   "outputs": [],
   "source": [
    "from keras.models import Sequential\n",
    "from keras.layers import Input, Dense"
   ]
  },
  {
   "cell_type": "code",
   "execution_count": 10,
   "metadata": {},
   "outputs": [],
   "source": [
    "# define the model\n",
    "model = Sequential()\n",
    "model.add(Dense(30, activation = 'relu', input_shape = (784, )))\n",
    "model.add(Dense(20, activation = 'relu'))\n",
    "model.add(Dense(10, activation = 'softmax'))"
   ]
  },
  {
   "cell_type": "code",
   "execution_count": 11,
   "metadata": {},
   "outputs": [
    {
     "name": "stdout",
     "output_type": "stream",
     "text": [
      "Model: \"sequential\"\n",
      "_________________________________________________________________\n",
      "Layer (type)                 Output Shape              Param #   \n",
      "=================================================================\n",
      "dense (Dense)                (None, 30)                23550     \n",
      "_________________________________________________________________\n",
      "dense_1 (Dense)              (None, 20)                620       \n",
      "_________________________________________________________________\n",
      "dense_2 (Dense)              (None, 10)                210       \n",
      "=================================================================\n",
      "Total params: 24,380\n",
      "Trainable params: 24,380\n",
      "Non-trainable params: 0\n",
      "_________________________________________________________________\n"
     ]
    }
   ],
   "source": [
    "# summary of the model\n",
    "model.summary()"
   ]
  },
  {
   "cell_type": "code",
   "execution_count": 12,
   "metadata": {},
   "outputs": [],
   "source": [
    "# compile the model\n",
    "model.compile(optimizer = 'adam', loss = 'sparse_categorical_crossentropy', metrics = ['accuracy'])"
   ]
  },
  {
   "cell_type": "code",
   "execution_count": 13,
   "metadata": {
    "scrolled": true
   },
   "outputs": [
    {
     "name": "stdout",
     "output_type": "stream",
     "text": [
      "Epoch 1/50\n",
      "94/94 [==============================] - 1s 15ms/step - loss: 1.0847 - accuracy: 0.6331 - val_loss: 0.6752 - val_accuracy: 0.7701\n",
      "Epoch 2/50\n",
      "94/94 [==============================] - 1s 8ms/step - loss: 0.5903 - accuracy: 0.8011 - val_loss: 0.5285 - val_accuracy: 0.8228\n",
      "Epoch 3/50\n",
      "94/94 [==============================] - 1s 8ms/step - loss: 0.4945 - accuracy: 0.8326 - val_loss: 0.4800 - val_accuracy: 0.8349\n",
      "Epoch 4/50\n",
      "94/94 [==============================] - 1s 8ms/step - loss: 0.4547 - accuracy: 0.8445 - val_loss: 0.4475 - val_accuracy: 0.8457\n",
      "Epoch 5/50\n",
      "94/94 [==============================] - 1s 8ms/step - loss: 0.4302 - accuracy: 0.8514 - val_loss: 0.4289 - val_accuracy: 0.8512\n",
      "Epoch 6/50\n",
      "94/94 [==============================] - 1s 8ms/step - loss: 0.4116 - accuracy: 0.8586 - val_loss: 0.4166 - val_accuracy: 0.8548\n",
      "Epoch 7/50\n",
      "94/94 [==============================] - 1s 9ms/step - loss: 0.3980 - accuracy: 0.8634 - val_loss: 0.4129 - val_accuracy: 0.8542\n",
      "Epoch 8/50\n",
      "94/94 [==============================] - 1s 8ms/step - loss: 0.3883 - accuracy: 0.8648 - val_loss: 0.4054 - val_accuracy: 0.8608\n",
      "Epoch 9/50\n",
      "94/94 [==============================] - 1s 9ms/step - loss: 0.3760 - accuracy: 0.8696 - val_loss: 0.4028 - val_accuracy: 0.8639\n",
      "Epoch 10/50\n",
      "94/94 [==============================] - 1s 8ms/step - loss: 0.3697 - accuracy: 0.8723 - val_loss: 0.3931 - val_accuracy: 0.8651\n",
      "Epoch 11/50\n",
      "94/94 [==============================] - 1s 8ms/step - loss: 0.3607 - accuracy: 0.8743 - val_loss: 0.3924 - val_accuracy: 0.8633\n",
      "Epoch 12/50\n",
      "94/94 [==============================] - 1s 8ms/step - loss: 0.3557 - accuracy: 0.8756 - val_loss: 0.3839 - val_accuracy: 0.8679\n",
      "Epoch 13/50\n",
      "94/94 [==============================] - 1s 8ms/step - loss: 0.3519 - accuracy: 0.8777 - val_loss: 0.3758 - val_accuracy: 0.8704\n",
      "Epoch 14/50\n",
      "94/94 [==============================] - 1s 9ms/step - loss: 0.3433 - accuracy: 0.8798 - val_loss: 0.3798 - val_accuracy: 0.8675\n",
      "Epoch 15/50\n",
      "94/94 [==============================] - 1s 7ms/step - loss: 0.3384 - accuracy: 0.8819 - val_loss: 0.3744 - val_accuracy: 0.8690\n",
      "Epoch 16/50\n",
      "94/94 [==============================] - 1s 8ms/step - loss: 0.3359 - accuracy: 0.8827 - val_loss: 0.3764 - val_accuracy: 0.8690\n",
      "Epoch 17/50\n",
      "94/94 [==============================] - 1s 9ms/step - loss: 0.3316 - accuracy: 0.8841 - val_loss: 0.3824 - val_accuracy: 0.8636\n",
      "Epoch 18/50\n",
      "94/94 [==============================] - 1s 8ms/step - loss: 0.3284 - accuracy: 0.8852 - val_loss: 0.3758 - val_accuracy: 0.8672\n",
      "Epoch 19/50\n",
      "94/94 [==============================] - 1s 9ms/step - loss: 0.3242 - accuracy: 0.8866 - val_loss: 0.3642 - val_accuracy: 0.8733\n",
      "Epoch 20/50\n",
      "94/94 [==============================] - 1s 9ms/step - loss: 0.3187 - accuracy: 0.8878 - val_loss: 0.3651 - val_accuracy: 0.8724\n",
      "Epoch 21/50\n",
      "94/94 [==============================] - 1s 9ms/step - loss: 0.3212 - accuracy: 0.8871 - val_loss: 0.3621 - val_accuracy: 0.8729\n",
      "Epoch 22/50\n",
      "94/94 [==============================] - 1s 8ms/step - loss: 0.3141 - accuracy: 0.8900 - val_loss: 0.3603 - val_accuracy: 0.8778\n",
      "Epoch 23/50\n",
      "94/94 [==============================] - 1s 8ms/step - loss: 0.3120 - accuracy: 0.8895 - val_loss: 0.3576 - val_accuracy: 0.8744\n",
      "Epoch 24/50\n",
      "94/94 [==============================] - 1s 8ms/step - loss: 0.3102 - accuracy: 0.8910 - val_loss: 0.3574 - val_accuracy: 0.8758\n",
      "Epoch 25/50\n",
      "94/94 [==============================] - 1s 8ms/step - loss: 0.3064 - accuracy: 0.8912 - val_loss: 0.3576 - val_accuracy: 0.8773\n",
      "Epoch 26/50\n",
      "94/94 [==============================] - 1s 8ms/step - loss: 0.3011 - accuracy: 0.8929 - val_loss: 0.3645 - val_accuracy: 0.8737\n",
      "Epoch 27/50\n",
      "94/94 [==============================] - 1s 8ms/step - loss: 0.3004 - accuracy: 0.8937 - val_loss: 0.3663 - val_accuracy: 0.8741\n",
      "Epoch 28/50\n",
      "94/94 [==============================] - 1s 8ms/step - loss: 0.2980 - accuracy: 0.8934 - val_loss: 0.3625 - val_accuracy: 0.8732\n",
      "Epoch 29/50\n",
      "94/94 [==============================] - 1s 8ms/step - loss: 0.2952 - accuracy: 0.8942 - val_loss: 0.3531 - val_accuracy: 0.8761\n",
      "Epoch 30/50\n",
      "94/94 [==============================] - 1s 8ms/step - loss: 0.2931 - accuracy: 0.8962 - val_loss: 0.3569 - val_accuracy: 0.8772\n",
      "Epoch 31/50\n",
      "94/94 [==============================] - 1s 8ms/step - loss: 0.2883 - accuracy: 0.8966 - val_loss: 0.3506 - val_accuracy: 0.8792\n",
      "Epoch 32/50\n",
      "94/94 [==============================] - 1s 7ms/step - loss: 0.2847 - accuracy: 0.8988 - val_loss: 0.3573 - val_accuracy: 0.8762\n",
      "Epoch 33/50\n",
      "94/94 [==============================] - 1s 8ms/step - loss: 0.2817 - accuracy: 0.9000 - val_loss: 0.3487 - val_accuracy: 0.8769\n",
      "Epoch 34/50\n",
      "94/94 [==============================] - 1s 8ms/step - loss: 0.2823 - accuracy: 0.9000 - val_loss: 0.3558 - val_accuracy: 0.8750\n",
      "Epoch 35/50\n",
      "94/94 [==============================] - 1s 8ms/step - loss: 0.2797 - accuracy: 0.8995 - val_loss: 0.3501 - val_accuracy: 0.8768\n",
      "Epoch 36/50\n",
      "94/94 [==============================] - 1s 8ms/step - loss: 0.2786 - accuracy: 0.9001 - val_loss: 0.3648 - val_accuracy: 0.8734\n",
      "Epoch 37/50\n",
      "94/94 [==============================] - 1s 8ms/step - loss: 0.2787 - accuracy: 0.9003 - val_loss: 0.3522 - val_accuracy: 0.8765\n",
      "Epoch 38/50\n",
      "94/94 [==============================] - 1s 7ms/step - loss: 0.2752 - accuracy: 0.9011 - val_loss: 0.3497 - val_accuracy: 0.8791\n",
      "Epoch 39/50\n",
      "94/94 [==============================] - 1s 8ms/step - loss: 0.2742 - accuracy: 0.9027 - val_loss: 0.3651 - val_accuracy: 0.8752\n",
      "Epoch 40/50\n",
      "94/94 [==============================] - 1s 8ms/step - loss: 0.2698 - accuracy: 0.9027 - val_loss: 0.3640 - val_accuracy: 0.8717\n",
      "Epoch 41/50\n",
      "94/94 [==============================] - 1s 8ms/step - loss: 0.2683 - accuracy: 0.9035 - val_loss: 0.3489 - val_accuracy: 0.8793\n",
      "Epoch 42/50\n",
      "94/94 [==============================] - 1s 8ms/step - loss: 0.2668 - accuracy: 0.9054 - val_loss: 0.3496 - val_accuracy: 0.8806\n",
      "Epoch 43/50\n",
      "94/94 [==============================] - 1s 7ms/step - loss: 0.2636 - accuracy: 0.9057 - val_loss: 0.3501 - val_accuracy: 0.8778\n",
      "Epoch 44/50\n",
      "94/94 [==============================] - 1s 7ms/step - loss: 0.2637 - accuracy: 0.9054 - val_loss: 0.3490 - val_accuracy: 0.8790\n",
      "Epoch 45/50\n",
      "94/94 [==============================] - 1s 8ms/step - loss: 0.2624 - accuracy: 0.9065 - val_loss: 0.3561 - val_accuracy: 0.8763\n",
      "Epoch 46/50\n",
      "94/94 [==============================] - 1s 7ms/step - loss: 0.2618 - accuracy: 0.9070 - val_loss: 0.3450 - val_accuracy: 0.8798\n",
      "Epoch 47/50\n",
      "94/94 [==============================] - 1s 8ms/step - loss: 0.2566 - accuracy: 0.9076 - val_loss: 0.3515 - val_accuracy: 0.8788\n",
      "Epoch 48/50\n",
      "94/94 [==============================] - 1s 8ms/step - loss: 0.2567 - accuracy: 0.9070 - val_loss: 0.3881 - val_accuracy: 0.8639\n",
      "Epoch 49/50\n",
      "94/94 [==============================] - 1s 7ms/step - loss: 0.2607 - accuracy: 0.9064 - val_loss: 0.3509 - val_accuracy: 0.8787\n",
      "Epoch 50/50\n",
      "94/94 [==============================] - 1s 7ms/step - loss: 0.2527 - accuracy: 0.9095 - val_loss: 0.3545 - val_accuracy: 0.8788\n"
     ]
    }
   ],
   "source": [
    "history = model.fit(X_train, Y_train, epochs = 50, batch_size = 512, validation_split = 0.2)"
   ]
  },
  {
   "cell_type": "code",
   "execution_count": 14,
   "metadata": {},
   "outputs": [
    {
     "data": {
      "image/png": "[encoded data removed]",
      "text/plain": [
       "<Figure size 432x288 with 1 Axes>"
      ]
     },
     "metadata": {
      "needs_background": "light"
     },
     "output_type": "display_data"
    },
    {
     "data": {
      "image/png": "[encoded data removed]",
      "text/plain": [
       "<Figure size 432x288 with 1 Axes>"
      ]
     },
     "metadata": {
      "needs_background": "light"
     },
     "output_type": "display_data"
    }
   ],
   "source": [
    "# plot training and validation accuracy values\n",
    "plt.plot(history.history['accuracy'])\n",
    "plt.plot(history.history['val_accuracy'])\n",
    "plt.title('Model accuracy')\n",
    "plt.xlabel('Epoch')\n",
    "plt.ylabel('Accuracy')\n",
    "plt.legend(['Train', 'Val'], loc = 'upper left')\n",
    "plt.show()\n",
    "\n",
    "# plot training and validation loss values\n",
    "plt.plot(history.history['loss'])\n",
    "plt.plot(history.history['val_loss'])\n",
    "plt.title('Model loss')\n",
    "plt.xlabel('Epoch')\n",
    "plt.ylabel('Loss')\n",
    "plt.legend(['Train', 'Val'], loc = 'upper left')\n",
    "plt.show()"
   ]
  },
  {
   "cell_type": "code",
   "execution_count": 15,
   "metadata": {},
   "outputs": [
    {
     "name": "stdout",
     "output_type": "stream",
     "text": [
      "   1/1875 [..............................] - ETA: 0s - loss: 0.2397 - accuracy: 0.9062WARNING:tensorflow:Callbacks method `on_test_batch_end` is slow compared to the batch time (batch time: 0.0000s vs `on_test_batch_end` time: 0.0065s). Check your callbacks.\n",
      "1875/1875 [==============================] - 4s 2ms/step - loss: 0.2693 - accuracy: 0.9054\n",
      "313/313 [==============================] - 1s 2ms/step - loss: 0.3873 - accuracy: 0.8707\n",
      "Accuracy on train set is 90.544999%\n",
      "Accuracy on validation set is 87.070000%\n"
     ]
    }
   ],
   "source": [
    "# find the accuracy on train and test set\n",
    "train_loss, train_acc = model.evaluate(X_train, Y_train)\n",
    "test_loss, test_acc = model.evaluate(X_test, Y_test)\n",
    "print(\"Accuracy on train set is %f\" %(train_acc * 100)  + \"%\")\n",
    "print(\"Accuracy on validation set is %f\" %(test_acc * 100)  + \"%\")"
   ]
  },
  {
   "cell_type": "markdown",
   "metadata": {},
   "source": [
    "## Using Scikit-learn MLPClassifier"
   ]
  },
  {
   "cell_type": "code",
   "execution_count": 16,
   "metadata": {},
   "outputs": [],
   "source": [
    "from sklearn.neural_network import MLPClassifier\n",
    "from sklearn.metrics import classification_report, confusion_matrix"
   ]
  },
  {
   "cell_type": "code",
   "execution_count": 17,
   "metadata": {},
   "outputs": [
    {
     "name": "stderr",
     "output_type": "stream",
     "text": [
      "C:\\ProgramData\\Anaconda3\\lib\\site-packages\\sklearn\\utils\\validation.py:73: DataConversionWarning: A column-vector y was passed when a 1d array was expected. Please change the shape of y to (n_samples, ), for example using ravel().\n",
      "  return f(**kwargs)\n",
      "C:\\ProgramData\\Anaconda3\\lib\\site-packages\\sklearn\\neural_network\\_multilayer_perceptron.py:582: ConvergenceWarning: Stochastic Optimizer: Maximum iterations (50) reached and the optimization hasn't converged yet.\n",
      "  warnings.warn(\n"
     ]
    },
    {
     "name": "stdout",
     "output_type": "stream",
     "text": [
      "MLP train score:  91.21\n",
      "MLP test score:  87.19\n",
      "Classification Report: \n",
      "               precision    recall  f1-score   support\n",
      "\n",
      "           0       0.80      0.84      0.82      1000\n",
      "           1       0.99      0.96      0.97      1000\n",
      "           2       0.85      0.68      0.75      1000\n",
      "           3       0.83      0.92      0.87      1000\n",
      "           4       0.81      0.77      0.79      1000\n",
      "           5       0.95      0.97      0.96      1000\n",
      "           6       0.65      0.72      0.68      1000\n",
      "           7       0.94      0.95      0.95      1000\n",
      "           8       0.96      0.96      0.96      1000\n",
      "           9       0.97      0.95      0.96      1000\n",
      "\n",
      "    accuracy                           0.87     10000\n",
      "   macro avg       0.87      0.87      0.87     10000\n",
      "weighted avg       0.87      0.87      0.87     10000\n",
      "\n",
      "Confusion Matrix:\n",
      " [[840   1  10  41   1   2  94   0  10   1]\n",
      " [  7 958   1  25   3   0   5   0   1   0]\n",
      " [ 26   1 678  19 120   0 149   0   7   0]\n",
      " [ 23   4   6 922  10   2  28   0   5   0]\n",
      " [  2   1  52  66 766   0 107   0   6   0]\n",
      " [  0   0   0   1   0 971   0  17   2   9]\n",
      " [142   2  47  34  38   1 723   0  13   0]\n",
      " [  0   0   0   0   0  24   0 953   0  23]\n",
      " [  6   1   4   9   3   4   6   5 962   0]\n",
      " [  0   0   0   0   0  16   1  37   0 946]]\n"
     ]
    }
   ],
   "source": [
    "mlp_clf = MLPClassifier(hidden_layer_sizes = (30, 20), solver = 'adam', activation = 'relu', max_iter = 50)\n",
    "mlp_clf.fit(X_train, Y_train)\n",
    "\n",
    "# train score\n",
    "mlp_train_score = round(mlp_clf.score(X_train, Y_train) * 100, 2)\n",
    "mlp_test_score = round(mlp_clf.score(X_test, Y_test) * 100, 2)\n",
    "# predicted output\n",
    "Y_pred_mlp = mlp_clf.predict(X_test)\n",
    "\n",
    "print('MLP train score: ', mlp_train_score)\n",
    "print('MLP test score: ', mlp_test_score)\n",
    "print('Classification Report: \\n', classification_report(Y_test, Y_pred_mlp))\n",
    "print('Confusion Matrix:\\n', confusion_matrix(Y_test, Y_pred_mlp))"
   ]
  },
  {
   "cell_type": "markdown",
   "metadata": {},
   "source": [
    "## Using CNN"
   ]
  },
  {
   "cell_type": "code",
   "execution_count": 18,
   "metadata": {},
   "outputs": [],
   "source": [
    "from keras.layers import Conv2D, MaxPool2D, Flatten, Dense, Dropout"
   ]
  },
  {
   "cell_type": "code",
   "execution_count": 19,
   "metadata": {},
   "outputs": [
    {
     "name": "stdout",
     "output_type": "stream",
     "text": [
      "X_train shape: (60000, 28, 28, 1)\n",
      "Y_train shape: (60000, 10)\n",
      "X_test shape: (10000, 28, 28, 1)\n",
      "Y_test shape: (10000, 10)\n"
     ]
    }
   ],
   "source": [
    "# convert class vectors to binary class matrices\n",
    "\n",
    "img_height = 28\n",
    "img_width = 28\n",
    "num_classes = 10\n",
    "num_channels = 1\n",
    "\n",
    "img_shape = (img_width, img_height, num_channels)\n",
    "\n",
    "X_train = X_train.reshape(-1, img_width, img_height, num_channels)\n",
    "X_test = X_test.reshape(-1, img_width, img_height, num_channels)\n",
    "\n",
    "Y_train = keras.utils.to_categorical(Y_train, num_classes)\n",
    "Y_test = keras.utils.to_categorical(Y_test, num_classes)\n",
    "\n",
    "# shapes of training and test datasets\n",
    "print(\"X_train shape:\", X_train.shape)\n",
    "print(\"Y_train shape:\", Y_train.shape)\n",
    "print(\"X_test shape:\", X_test.shape)\n",
    "print(\"Y_test shape:\", Y_test.shape)"
   ]
  },
  {
   "cell_type": "code",
   "execution_count": 20,
   "metadata": {},
   "outputs": [],
   "source": [
    "# define the model\n",
    "model = Sequential(\n",
    "    [\n",
    "        Conv2D(32, kernel_size = (3, 3), activation = 'relu', input_shape = img_shape),\n",
    "        MaxPool2D(pool_size = (2, 2)),\n",
    "        Conv2D(64, kernel_size = (3, 3), activation = 'relu'),\n",
    "        MaxPool2D(pool_size = (2, 2)),\n",
    "        Flatten(),\n",
    "        Dropout(0.5),\n",
    "        Dense(64, activation = 'relu'),\n",
    "        Dense(num_classes, activation = 'softmax')\n",
    "    ]\n",
    ")"
   ]
  },
  {
   "cell_type": "code",
   "execution_count": 21,
   "metadata": {},
   "outputs": [
    {
     "name": "stdout",
     "output_type": "stream",
     "text": [
      "Model: \"sequential_1\"\n",
      "_________________________________________________________________\n",
      "Layer (type)                 Output Shape              Param #   \n",
      "=================================================================\n",
      "conv2d (Conv2D)              (None, 26, 26, 32)        320       \n",
      "_________________________________________________________________\n",
      "max_pooling2d (MaxPooling2D) (None, 13, 13, 32)        0         \n",
      "_________________________________________________________________\n",
      "conv2d_1 (Conv2D)            (None, 11, 11, 64)        18496     \n",
      "_________________________________________________________________\n",
      "max_pooling2d_1 (MaxPooling2 (None, 5, 5, 64)          0         \n",
      "_________________________________________________________________\n",
      "flatten (Flatten)            (None, 1600)              0         \n",
      "_________________________________________________________________\n",
      "dropout (Dropout)            (None, 1600)              0         \n",
      "_________________________________________________________________\n",
      "dense_3 (Dense)              (None, 64)                102464    \n",
      "_________________________________________________________________\n",
      "dense_4 (Dense)              (None, 10)                650       \n",
      "=================================================================\n",
      "Total params: 121,930\n",
      "Trainable params: 121,930\n",
      "Non-trainable params: 0\n",
      "_________________________________________________________________\n"
     ]
    }
   ],
   "source": [
    "# summary of the model\n",
    "model.summary()"
   ]
  },
  {
   "cell_type": "code",
   "execution_count": 22,
   "metadata": {},
   "outputs": [],
   "source": [
    "# compile the model\n",
    "model.compile(optimizer = 'adam', loss = 'categorical_crossentropy', metrics = ['accuracy'])"
   ]
  },
  {
   "cell_type": "code",
   "execution_count": 23,
   "metadata": {},
   "outputs": [
    {
     "name": "stdout",
     "output_type": "stream",
     "text": [
      "Epoch 1/10\n",
      "1500/1500 [==============================] - 29s 19ms/step - loss: 0.5551 - accuracy: 0.7997 - val_loss: 0.3940 - val_accuracy: 0.8573\n",
      "Epoch 2/10\n",
      "1500/1500 [==============================] - 29s 19ms/step - loss: 0.3871 - accuracy: 0.8607 - val_loss: 0.3232 - val_accuracy: 0.8846\n",
      "Epoch 3/10\n",
      "1500/1500 [==============================] - 29s 19ms/step - loss: 0.3393 - accuracy: 0.8759 - val_loss: 0.3194 - val_accuracy: 0.8833\n",
      "Epoch 4/10\n",
      "1500/1500 [==============================] - 29s 19ms/step - loss: 0.3100 - accuracy: 0.8866 - val_loss: 0.2886 - val_accuracy: 0.8938\n",
      "Epoch 5/10\n",
      "1500/1500 [==============================] - 28s 19ms/step - loss: 0.2908 - accuracy: 0.8928 - val_loss: 0.2755 - val_accuracy: 0.9013\n",
      "Epoch 6/10\n",
      "1500/1500 [==============================] - 28s 19ms/step - loss: 0.2766 - accuracy: 0.8969 - val_loss: 0.2611 - val_accuracy: 0.9029\n",
      "Epoch 7/10\n",
      "1500/1500 [==============================] - 30s 20ms/step - loss: 0.2603 - accuracy: 0.9027 - val_loss: 0.2580 - val_accuracy: 0.9038\n",
      "Epoch 8/10\n",
      "1500/1500 [==============================] - 29s 20ms/step - loss: 0.2490 - accuracy: 0.9059 - val_loss: 0.2430 - val_accuracy: 0.9133\n",
      "Epoch 9/10\n",
      "1500/1500 [==============================] - 30s 20ms/step - loss: 0.2391 - accuracy: 0.9111 - val_loss: 0.2496 - val_accuracy: 0.9102\n",
      "Epoch 10/10\n",
      "1500/1500 [==============================] - 30s 20ms/step - loss: 0.2346 - accuracy: 0.9133 - val_loss: 0.2434 - val_accuracy: 0.9129\n"
     ]
    }
   ],
   "source": [
    "hsitory = model.fit(X_train, Y_train, epochs = 10, validation_split = 0.2)"
   ]
  },
  {
   "cell_type": "code",
   "execution_count": 24,
   "metadata": {},
   "outputs": [
    {
     "data": {
      "image/png": "[encoded data removed]",
      "text/plain": [
       "<Figure size 432x288 with 1 Axes>"
      ]
     },
     "metadata": {
      "needs_background": "light"
     },
     "output_type": "display_data"
    },
    {
     "data": {
      "image/png": "[encoded data removed]",
      "text/plain": [
       "<Figure size 432x288 with 1 Axes>"
      ]
     },
     "metadata": {
      "needs_background": "light"
     },
     "output_type": "display_data"
    }
   ],
   "source": [
    "# plot training and validation accuracy values\n",
    "plt.plot(history.history['accuracy'])\n",
    "plt.plot(history.history['val_accuracy'])\n",
    "plt.title('Model accuracy')\n",
    "plt.xlabel('Epoch')\n",
    "plt.ylabel('Accuracy')\n",
    "plt.legend(['Train', 'Val'], loc = 'upper left')\n",
    "plt.show()\n",
    "\n",
    "# plot training and validation loss values\n",
    "plt.plot(history.history['loss'])\n",
    "plt.plot(history.history['val_loss'])\n",
    "plt.title('Model loss')\n",
    "plt.xlabel('Epoch')\n",
    "plt.ylabel('Loss')\n",
    "plt.legend(['Train', 'Val'], loc = 'upper left')\n",
    "plt.show()"
   ]
  },
  {
   "cell_type": "code",
   "execution_count": 25,
   "metadata": {
    "scrolled": true
   },
   "outputs": [
    {
     "name": "stdout",
     "output_type": "stream",
     "text": [
      "1875/1875 [==============================] - 10s 6ms/step - loss: 0.1924 - accuracy: 0.9298\n",
      "313/313 [==============================] - 2s 6ms/step - loss: 0.2546 - accuracy: 0.9056\n",
      "Accuracy on train set is 92.978334%\n",
      "Accuracy on validation set is 90.560001%\n"
     ]
    }
   ],
   "source": [
    "# find the accuracy on train and test set\n",
    "train_loss, train_acc = model.evaluate(X_train, Y_train)\n",
    "test_loss, test_acc = model.evaluate(X_test, Y_test)\n",
    "print(\"Accuracy on train set is %f\" %(train_acc * 100)  + \"%\")\n",
    "print(\"Accuracy on validation set is %f\" %(test_acc * 100)  + \"%\")"
   ]
  },
  {
   "cell_type": "code",
   "execution_count": 26,
   "metadata": {},
   "outputs": [
    {
     "name": "stdout",
     "output_type": "stream",
     "text": [
      "              precision    recall  f1-score   support\n",
      "\n",
      "           0       0.84      0.87      0.86      1000\n",
      "           1       1.00      0.97      0.98      1000\n",
      "           2       0.83      0.89      0.86      1000\n",
      "           3       0.89      0.93      0.91      1000\n",
      "           4       0.84      0.86      0.85      1000\n",
      "           5       0.99      0.97      0.98      1000\n",
      "           6       0.77      0.65      0.70      1000\n",
      "           7       0.95      0.97      0.96      1000\n",
      "           8       0.98      0.98      0.98      1000\n",
      "           9       0.96      0.96      0.96      1000\n",
      "\n",
      "    accuracy                           0.91     10000\n",
      "   macro avg       0.90      0.91      0.90     10000\n",
      "weighted avg       0.90      0.91      0.90     10000\n",
      "\n"
     ]
    }
   ],
   "source": [
    "Y_pred = np.argmax(model.predict(X_test), axis = -1)\n",
    "\n",
    "Y_test = np.argmax(Y_test, axis = -1)\n",
    "correct = np.nonzero(Y_pred == Y_test)[0]\n",
    "incorrect = np.nonzero(Y_pred != Y_test)[0]\n",
    "\n",
    "# Classification Report\n",
    "print(classification_report(Y_test, Y_pred))"
   ]
  },
  {
   "cell_type": "markdown",
   "metadata": {},
   "source": [
    "### A subset of correctly predicted classes"
   ]
  },
  {
   "cell_type": "code",
   "execution_count": 27,
   "metadata": {},
   "outputs": [
    {
     "data": {
      "image/png": "[encoded data removed]",
      "text/plain": [
       "<Figure size 432x288 with 9 Axes>"
      ]
     },
     "metadata": {
      "needs_background": "light"
     },
     "output_type": "display_data"
    }
   ],
   "source": [
    "for i, cur in enumerate(correct[:9]):\n",
    "    plt.subplot(3,3,i+1)\n",
    "    plt.imshow(X_test[cur].reshape(28,28), cmap='gray', interpolation='none')\n",
    "    plt.title(\"Predicted {}, Class {}\".format(Y_pred[cur], Y_test[cur]))\n",
    "    plt.tight_layout()"
   ]
  },
  {
   "cell_type": "markdown",
   "metadata": {},
   "source": [
    "### A subset of incorrectly predicted classes"
   ]
  },
  {
   "cell_type": "code",
   "execution_count": 28,
   "metadata": {},
   "outputs": [
    {
     "data": {
      "image/png": "[encoded data removed]",
      "text/plain": [
       "<Figure size 432x288 with 9 Axes>"
      ]
     },
     "metadata": {
      "needs_background": "light"
     },
     "output_type": "display_data"
    }
   ],
   "source": [
    "for i, cur in enumerate(incorrect[0:9]):\n",
    "    plt.subplot(3,3,i+1)\n",
    "    plt.imshow(X_test[cur].reshape(28,28), cmap='gray', interpolation='none')\n",
    "    plt.title(\"Predicted {}, Class {}\".format(Y_pred[cur], Y_test[cur]))\n",
    "    plt.tight_layout()"
   ]
  },
  {
   "cell_type": "code",
   "execution_count": null,
   "metadata": {},
   "outputs": [],
   "source": []
  }
 ],
 "metadata": {
  "kernelspec": {
   "display_name": "Python 3",
   "language": "python",
   "name": "python3"
  },
  "language_info": {
   "codemirror_mode": {
    "name": "ipython",
    "version": 3
   },
   "file_extension": ".py",
   "mimetype": "text/x-python",
   "name": "python",
   "nbconvert_exporter": "python",
   "pygments_lexer": "ipython3",
   "version": "3.8.3"
  }
 },
 "nbformat": 4,
 "nbformat_minor": 4
}

{
 "cells": [
  {
   "cell_type": "markdown",
   "metadata": {},
   "source": [
    "# Titanic: Machine Learning from Disaster\n",
    "Predicting survival on the Titanic with ML."
   ]
  },
  {
   "cell_type": "code",
   "execution_count": 1,
   "metadata": {},
   "outputs": [],
   "source": [
    "# import all required libraries for reading, analysing and visualizing data\n",
    "import numpy as np\n",
    "import pandas as pd\n",
    "import seaborn as sns\n",
    "import matplotlib.pyplot as plt"
   ]
  },
  {
   "cell_type": "markdown",
   "metadata": {},
   "source": [
    "## Data Analysis"
   ]
  },
  {
   "cell_type": "code",
   "execution_count": 2,
   "metadata": {},
   "outputs": [],
   "source": [
    "# read the data from the train and test csv files\n",
    "train_df = pd.read_csv('./dataset/train.csv')\n",
    "test_df = pd.read_csv('./dataset/test.csv')\n",
    "test_op_df = pd.read_csv('./dataset/testResults.csv')"
   ]
  },
  {
   "cell_type": "code",
   "execution_count": 3,
   "metadata": {},
   "outputs": [
    {
     "data": {
      "text/html": [
       "<div>\n",
       "<style scoped>\n",
       "    .dataframe tbody tr th:only-of-type {\n",
       "        vertical-align: middle;\n",
       "    }\n",
       "\n",
       "    .dataframe tbody tr th {\n",
       "        vertical-align: top;\n",
       "    }\n",
       "\n",
       "    .dataframe thead th {\n",
       "        text-align: right;\n",
       "    }\n",
       "</style>\n",
       "<table border=\"1\" class=\"dataframe\">\n",
       "  <thead>\n",
       "    <tr style=\"text-align: right;\">\n",
       "      <th></th>\n",
       "      <th>PassengerId</th>\n",
       "      <th>Survived</th>\n",
       "      <th>Pclass</th>\n",
       "      <th>Name</th>\n",
       "      <th>Sex</th>\n",
       "      <th>Age</th>\n",
       "      <th>SibSp</th>\n",
       "      <th>Parch</th>\n",
       "      <th>Ticket</th>\n",
       "      <th>Fare</th>\n",
       "      <th>Cabin</th>\n",
       "      <th>Embarked</th>\n",
       "    </tr>\n",
       "  </thead>\n",
       "  <tbody>\n",
       "    <tr>\n",
       "      <th>0</th>\n",
       "      <td>1</td>\n",
       "      <td>0</td>\n",
       "      <td>3</td>\n",
       "      <td>Braund, Mr. Owen Harris</td>\n",
       "      <td>male</td>\n",
       "      <td>22.0</td>\n",
       "      <td>1</td>\n",
       "      <td>0</td>\n",
       "      <td>A/5 21171</td>\n",
       "      <td>7.2500</td>\n",
       "      <td>NaN</td>\n",
       "      <td>S</td>\n",
       "    </tr>\n",
       "    <tr>\n",
       "      <th>1</th>\n",
       "      <td>2</td>\n",
       "      <td>1</td>\n",
       "      <td>1</td>\n",
       "      <td>Cumings, Mrs. John Bradley (Florence Briggs Th...</td>\n",
       "      <td>female</td>\n",
       "      <td>38.0</td>\n",
       "      <td>1</td>\n",
       "      <td>0</td>\n",
       "      <td>PC 17599</td>\n",
       "      <td>71.2833</td>\n",
       "      <td>C85</td>\n",
       "      <td>C</td>\n",
       "    </tr>\n",
       "    <tr>\n",
       "      <th>2</th>\n",
       "      <td>3</td>\n",
       "      <td>1</td>\n",
       "      <td>3</td>\n",
       "      <td>Heikkinen, Miss. Laina</td>\n",
       "      <td>female</td>\n",
       "      <td>26.0</td>\n",
       "      <td>0</td>\n",
       "      <td>0</td>\n",
       "      <td>STON/O2. 3101282</td>\n",
       "      <td>7.9250</td>\n",
       "      <td>NaN</td>\n",
       "      <td>S</td>\n",
       "    </tr>\n",
       "    <tr>\n",
       "      <th>3</th>\n",
       "      <td>4</td>\n",
       "      <td>1</td>\n",
       "      <td>1</td>\n",
       "      <td>Futrelle, Mrs. Jacques Heath (Lily May Peel)</td>\n",
       "      <td>female</td>\n",
       "      <td>35.0</td>\n",
       "      <td>1</td>\n",
       "      <td>0</td>\n",
       "      <td>113803</td>\n",
       "      <td>53.1000</td>\n",
       "      <td>C123</td>\n",
       "      <td>S</td>\n",
       "    </tr>\n",
       "    <tr>\n",
       "      <th>4</th>\n",
       "      <td>5</td>\n",
       "      <td>0</td>\n",
       "      <td>3</td>\n",
       "      <td>Allen, Mr. William Henry</td>\n",
       "      <td>male</td>\n",
       "      <td>35.0</td>\n",
       "      <td>0</td>\n",
       "      <td>0</td>\n",
       "      <td>373450</td>\n",
       "      <td>8.0500</td>\n",
       "      <td>NaN</td>\n",
       "      <td>S</td>\n",
       "    </tr>\n",
       "  </tbody>\n",
       "</table>\n",
       "</div>"
      ],
      "text/plain": [
       "   PassengerId  Survived  Pclass  \\\n",
       "0            1         0       3   \n",
       "1            2         1       1   \n",
       "2            3         1       3   \n",
       "3            4         1       1   \n",
       "4            5         0       3   \n",
       "\n",
       "                                                Name     Sex   Age  SibSp  \\\n",
       "0                            Braund, Mr. Owen Harris    male  22.0      1   \n",
       "1  Cumings, Mrs. John Bradley (Florence Briggs Th...  female  38.0      1   \n",
       "2                             Heikkinen, Miss. Laina  female  26.0      0   \n",
       "3       Futrelle, Mrs. Jacques Heath (Lily May Peel)  female  35.0      1   \n",
       "4                           Allen, Mr. William Henry    male  35.0      0   \n",
       "\n",
       "   Parch            Ticket     Fare Cabin Embarked  \n",
       "0      0         A/5 21171   7.2500   NaN        S  \n",
       "1      0          PC 17599  71.2833   C85        C  \n",
       "2      0  STON/O2. 3101282   7.9250   NaN        S  \n",
       "3      0            113803  53.1000  C123        S  \n",
       "4      0            373450   8.0500   NaN        S  "
      ]
     },
     "execution_count": 3,
     "metadata": {},
     "output_type": "execute_result"
    }
   ],
   "source": [
    "train_df.head()"
   ]
  },
  {
   "cell_type": "code",
   "execution_count": 4,
   "metadata": {},
   "outputs": [
    {
     "data": {
      "text/html": [
       "<div>\n",
       "<style scoped>\n",
       "    .dataframe tbody tr th:only-of-type {\n",
       "        vertical-align: middle;\n",
       "    }\n",
       "\n",
       "    .dataframe tbody tr th {\n",
       "        vertical-align: top;\n",
       "    }\n",
       "\n",
       "    .dataframe thead th {\n",
       "        text-align: right;\n",
       "    }\n",
       "</style>\n",
       "<table border=\"1\" class=\"dataframe\">\n",
       "  <thead>\n",
       "    <tr style=\"text-align: right;\">\n",
       "      <th></th>\n",
       "      <th>PassengerId</th>\n",
       "      <th>Pclass</th>\n",
       "      <th>Name</th>\n",
       "      <th>Sex</th>\n",
       "      <th>Age</th>\n",
       "      <th>SibSp</th>\n",
       "      <th>Parch</th>\n",
       "      <th>Ticket</th>\n",
       "      <th>Fare</th>\n",
       "      <th>Cabin</th>\n",
       "      <th>Embarked</th>\n",
       "    </tr>\n",
       "  </thead>\n",
       "  <tbody>\n",
       "    <tr>\n",
       "      <th>0</th>\n",
       "      <td>892</td>\n",
       "      <td>3</td>\n",
       "      <td>Kelly, Mr. James</td>\n",
       "      <td>male</td>\n",
       "      <td>34.5</td>\n",
       "      <td>0</td>\n",
       "      <td>0</td>\n",
       "      <td>330911</td>\n",
       "      <td>7.8292</td>\n",
       "      <td>NaN</td>\n",
       "      <td>Q</td>\n",
       "    </tr>\n",
       "    <tr>\n",
       "      <th>1</th>\n",
       "      <td>893</td>\n",
       "      <td>3</td>\n",
       "      <td>Wilkes, Mrs. James (Ellen Needs)</td>\n",
       "      <td>female</td>\n",
       "      <td>47.0</td>\n",
       "      <td>1</td>\n",
       "      <td>0</td>\n",
       "      <td>363272</td>\n",
       "      <td>7.0000</td>\n",
       "      <td>NaN</td>\n",
       "      <td>S</td>\n",
       "    </tr>\n",
       "    <tr>\n",
       "      <th>2</th>\n",
       "      <td>894</td>\n",
       "      <td>2</td>\n",
       "      <td>Myles, Mr. Thomas Francis</td>\n",
       "      <td>male</td>\n",
       "      <td>62.0</td>\n",
       "      <td>0</td>\n",
       "      <td>0</td>\n",
       "      <td>240276</td>\n",
       "      <td>9.6875</td>\n",
       "      <td>NaN</td>\n",
       "      <td>Q</td>\n",
       "    </tr>\n",
       "    <tr>\n",
       "      <th>3</th>\n",
       "      <td>895</td>\n",
       "      <td>3</td>\n",
       "      <td>Wirz, Mr. Albert</td>\n",
       "      <td>male</td>\n",
       "      <td>27.0</td>\n",
       "      <td>0</td>\n",
       "      <td>0</td>\n",
       "      <td>315154</td>\n",
       "      <td>8.6625</td>\n",
       "      <td>NaN</td>\n",
       "      <td>S</td>\n",
       "    </tr>\n",
       "    <tr>\n",
       "      <th>4</th>\n",
       "      <td>896</td>\n",
       "      <td>3</td>\n",
       "      <td>Hirvonen, Mrs. Alexander (Helga E Lindqvist)</td>\n",
       "      <td>female</td>\n",
       "      <td>22.0</td>\n",
       "      <td>1</td>\n",
       "      <td>1</td>\n",
       "      <td>3101298</td>\n",
       "      <td>12.2875</td>\n",
       "      <td>NaN</td>\n",
       "      <td>S</td>\n",
       "    </tr>\n",
       "  </tbody>\n",
       "</table>\n",
       "</div>"
      ],
      "text/plain": [
       "   PassengerId  Pclass                                          Name     Sex  \\\n",
       "0          892       3                              Kelly, Mr. James    male   \n",
       "1          893       3              Wilkes, Mrs. James (Ellen Needs)  female   \n",
       "2          894       2                     Myles, Mr. Thomas Francis    male   \n",
       "3          895       3                              Wirz, Mr. Albert    male   \n",
       "4          896       3  Hirvonen, Mrs. Alexander (Helga E Lindqvist)  female   \n",
       "\n",
       "    Age  SibSp  Parch   Ticket     Fare Cabin Embarked  \n",
       "0  34.5      0      0   330911   7.8292   NaN        Q  \n",
       "1  47.0      1      0   363272   7.0000   NaN        S  \n",
       "2  62.0      0      0   240276   9.6875   NaN        Q  \n",
       "3  27.0      0      0   315154   8.6625   NaN        S  \n",
       "4  22.0      1      1  3101298  12.2875   NaN        S  "
      ]
     },
     "execution_count": 4,
     "metadata": {},
     "output_type": "execute_result"
    }
   ],
   "source": [
    "test_df.head()"
   ]
  },
  {
   "cell_type": "code",
   "execution_count": 5,
   "metadata": {},
   "outputs": [
    {
     "name": "stdout",
     "output_type": "stream",
     "text": [
      "Training dataset shape:  (891, 12)\n",
      "Testing dataset shape:  (418, 11)\n"
     ]
    }
   ],
   "source": [
    "print('Training dataset shape: ', train_df.shape)\n",
    "print('Testing dataset shape: ', test_df.shape)"
   ]
  },
  {
   "cell_type": "code",
   "execution_count": 6,
   "metadata": {},
   "outputs": [
    {
     "name": "stdout",
     "output_type": "stream",
     "text": [
      "<class 'pandas.core.frame.DataFrame'>\n",
      "RangeIndex: 891 entries, 0 to 890\n",
      "Data columns (total 12 columns):\n",
      " #   Column       Non-Null Count  Dtype  \n",
      "---  ------       --------------  -----  \n",
      " 0   PassengerId  891 non-null    int64  \n",
      " 1   Survived     891 non-null    int64  \n",
      " 2   Pclass       891 non-null    int64  \n",
      " 3   Name         891 non-null    object \n",
      " 4   Sex          891 non-null    object \n",
      " 5   Age          714 non-null    float64\n",
      " 6   SibSp        891 non-null    int64  \n",
      " 7   Parch        891 non-null    int64  \n",
      " 8   Ticket       891 non-null    object \n",
      " 9   Fare         891 non-null    float64\n",
      " 10  Cabin        204 non-null    object \n",
      " 11  Embarked     889 non-null    object \n",
      "dtypes: float64(2), int64(5), object(5)\n",
      "memory usage: 83.7+ KB\n"
     ]
    }
   ],
   "source": [
    "train_df.info()"
   ]
  },
  {
   "cell_type": "code",
   "execution_count": 7,
   "metadata": {},
   "outputs": [
    {
     "data": {
      "text/html": [
       "<div>\n",
       "<style scoped>\n",
       "    .dataframe tbody tr th:only-of-type {\n",
       "        vertical-align: middle;\n",
       "    }\n",
       "\n",
       "    .dataframe tbody tr th {\n",
       "        vertical-align: top;\n",
       "    }\n",
       "\n",
       "    .dataframe thead th {\n",
       "        text-align: right;\n",
       "    }\n",
       "</style>\n",
       "<table border=\"1\" class=\"dataframe\">\n",
       "  <thead>\n",
       "    <tr style=\"text-align: right;\">\n",
       "      <th></th>\n",
       "      <th>PassengerId</th>\n",
       "      <th>Survived</th>\n",
       "      <th>Pclass</th>\n",
       "      <th>Name</th>\n",
       "      <th>Sex</th>\n",
       "      <th>Age</th>\n",
       "      <th>SibSp</th>\n",
       "      <th>Parch</th>\n",
       "      <th>Ticket</th>\n",
       "      <th>Fare</th>\n",
       "      <th>Cabin</th>\n",
       "      <th>Embarked</th>\n",
       "    </tr>\n",
       "  </thead>\n",
       "  <tbody>\n",
       "    <tr>\n",
       "      <th>count</th>\n",
       "      <td>891.000000</td>\n",
       "      <td>891.000000</td>\n",
       "      <td>891.000000</td>\n",
       "      <td>891</td>\n",
       "      <td>891</td>\n",
       "      <td>714.000000</td>\n",
       "      <td>891.000000</td>\n",
       "      <td>891.000000</td>\n",
       "      <td>891</td>\n",
       "      <td>891.000000</td>\n",
       "      <td>204</td>\n",
       "      <td>889</td>\n",
       "    </tr>\n",
       "    <tr>\n",
       "      <th>unique</th>\n",
       "      <td>NaN</td>\n",
       "      <td>NaN</td>\n",
       "      <td>NaN</td>\n",
       "      <td>891</td>\n",
       "      <td>2</td>\n",
       "      <td>NaN</td>\n",
       "      <td>NaN</td>\n",
       "      <td>NaN</td>\n",
       "      <td>681</td>\n",
       "      <td>NaN</td>\n",
       "      <td>147</td>\n",
       "      <td>3</td>\n",
       "    </tr>\n",
       "    <tr>\n",
       "      <th>top</th>\n",
       "      <td>NaN</td>\n",
       "      <td>NaN</td>\n",
       "      <td>NaN</td>\n",
       "      <td>Moore, Mr. Leonard Charles</td>\n",
       "      <td>male</td>\n",
       "      <td>NaN</td>\n",
       "      <td>NaN</td>\n",
       "      <td>NaN</td>\n",
       "      <td>347082</td>\n",
       "      <td>NaN</td>\n",
       "      <td>C23 C25 C27</td>\n",
       "      <td>S</td>\n",
       "    </tr>\n",
       "    <tr>\n",
       "      <th>freq</th>\n",
       "      <td>NaN</td>\n",
       "      <td>NaN</td>\n",
       "      <td>NaN</td>\n",
       "      <td>1</td>\n",
       "      <td>577</td>\n",
       "      <td>NaN</td>\n",
       "      <td>NaN</td>\n",
       "      <td>NaN</td>\n",
       "      <td>7</td>\n",
       "      <td>NaN</td>\n",
       "      <td>4</td>\n",
       "      <td>644</td>\n",
       "    </tr>\n",
       "    <tr>\n",
       "      <th>mean</th>\n",
       "      <td>446.000000</td>\n",
       "      <td>0.383838</td>\n",
       "      <td>2.308642</td>\n",
       "      <td>NaN</td>\n",
       "      <td>NaN</td>\n",
       "      <td>29.699118</td>\n",
       "      <td>0.523008</td>\n",
       "      <td>0.381594</td>\n",
       "      <td>NaN</td>\n",
       "      <td>32.204208</td>\n",
       "      <td>NaN</td>\n",
       "      <td>NaN</td>\n",
       "    </tr>\n",
       "    <tr>\n",
       "      <th>std</th>\n",
       "      <td>257.353842</td>\n",
       "      <td>0.486592</td>\n",
       "      <td>0.836071</td>\n",
       "      <td>NaN</td>\n",
       "      <td>NaN</td>\n",
       "      <td>14.526497</td>\n",
       "      <td>1.102743</td>\n",
       "      <td>0.806057</td>\n",
       "      <td>NaN</td>\n",
       "      <td>49.693429</td>\n",
       "      <td>NaN</td>\n",
       "      <td>NaN</td>\n",
       "    </tr>\n",
       "    <tr>\n",
       "      <th>min</th>\n",
       "      <td>1.000000</td>\n",
       "      <td>0.000000</td>\n",
       "      <td>1.000000</td>\n",
       "      <td>NaN</td>\n",
       "      <td>NaN</td>\n",
       "      <td>0.420000</td>\n",
       "      <td>0.000000</td>\n",
       "      <td>0.000000</td>\n",
       "      <td>NaN</td>\n",
       "      <td>0.000000</td>\n",
       "      <td>NaN</td>\n",
       "      <td>NaN</td>\n",
       "    </tr>\n",
       "    <tr>\n",
       "      <th>25%</th>\n",
       "      <td>223.500000</td>\n",
       "      <td>0.000000</td>\n",
       "      <td>2.000000</td>\n",
       "      <td>NaN</td>\n",
       "      <td>NaN</td>\n",
       "      <td>20.125000</td>\n",
       "      <td>0.000000</td>\n",
       "      <td>0.000000</td>\n",
       "      <td>NaN</td>\n",
       "      <td>7.910400</td>\n",
       "      <td>NaN</td>\n",
       "      <td>NaN</td>\n",
       "    </tr>\n",
       "    <tr>\n",
       "      <th>50%</th>\n",
       "      <td>446.000000</td>\n",
       "      <td>0.000000</td>\n",
       "      <td>3.000000</td>\n",
       "      <td>NaN</td>\n",
       "      <td>NaN</td>\n",
       "      <td>28.000000</td>\n",
       "      <td>0.000000</td>\n",
       "      <td>0.000000</td>\n",
       "      <td>NaN</td>\n",
       "      <td>14.454200</td>\n",
       "      <td>NaN</td>\n",
       "      <td>NaN</td>\n",
       "    </tr>\n",
       "    <tr>\n",
       "      <th>75%</th>\n",
       "      <td>668.500000</td>\n",
       "      <td>1.000000</td>\n",
       "      <td>3.000000</td>\n",
       "      <td>NaN</td>\n",
       "      <td>NaN</td>\n",
       "      <td>38.000000</td>\n",
       "      <td>1.000000</td>\n",
       "      <td>0.000000</td>\n",
       "      <td>NaN</td>\n",
       "      <td>31.000000</td>\n",
       "      <td>NaN</td>\n",
       "      <td>NaN</td>\n",
       "    </tr>\n",
       "    <tr>\n",
       "      <th>max</th>\n",
       "      <td>891.000000</td>\n",
       "      <td>1.000000</td>\n",
       "      <td>3.000000</td>\n",
       "      <td>NaN</td>\n",
       "      <td>NaN</td>\n",
       "      <td>80.000000</td>\n",
       "      <td>8.000000</td>\n",
       "      <td>6.000000</td>\n",
       "      <td>NaN</td>\n",
       "      <td>512.329200</td>\n",
       "      <td>NaN</td>\n",
       "      <td>NaN</td>\n",
       "    </tr>\n",
       "  </tbody>\n",
       "</table>\n",
       "</div>"
      ],
      "text/plain": [
       "        PassengerId    Survived      Pclass                        Name   Sex  \\\n",
       "count    891.000000  891.000000  891.000000                         891   891   \n",
       "unique          NaN         NaN         NaN                         891     2   \n",
       "top             NaN         NaN         NaN  Moore, Mr. Leonard Charles  male   \n",
       "freq            NaN         NaN         NaN                           1   577   \n",
       "mean     446.000000    0.383838    2.308642                         NaN   NaN   \n",
       "std      257.353842    0.486592    0.836071                         NaN   NaN   \n",
       "min        1.000000    0.000000    1.000000                         NaN   NaN   \n",
       "25%      223.500000    0.000000    2.000000                         NaN   NaN   \n",
       "50%      446.000000    0.000000    3.000000                         NaN   NaN   \n",
       "75%      668.500000    1.000000    3.000000                         NaN   NaN   \n",
       "max      891.000000    1.000000    3.000000                         NaN   NaN   \n",
       "\n",
       "               Age       SibSp       Parch  Ticket        Fare        Cabin  \\\n",
       "count   714.000000  891.000000  891.000000     891  891.000000          204   \n",
       "unique         NaN         NaN         NaN     681         NaN          147   \n",
       "top            NaN         NaN         NaN  347082         NaN  C23 C25 C27   \n",
       "freq           NaN         NaN         NaN       7         NaN            4   \n",
       "mean     29.699118    0.523008    0.381594     NaN   32.204208          NaN   \n",
       "std      14.526497    1.102743    0.806057     NaN   49.693429          NaN   \n",
       "min       0.420000    0.000000    0.000000     NaN    0.000000          NaN   \n",
       "25%      20.125000    0.000000    0.000000     NaN    7.910400          NaN   \n",
       "50%      28.000000    0.000000    0.000000     NaN   14.454200          NaN   \n",
       "75%      38.000000    1.000000    0.000000     NaN   31.000000          NaN   \n",
       "max      80.000000    8.000000    6.000000     NaN  512.329200          NaN   \n",
       "\n",
       "       Embarked  \n",
       "count       889  \n",
       "unique        3  \n",
       "top           S  \n",
       "freq        644  \n",
       "mean        NaN  \n",
       "std         NaN  \n",
       "min         NaN  \n",
       "25%         NaN  \n",
       "50%         NaN  \n",
       "75%         NaN  \n",
       "max         NaN  "
      ]
     },
     "execution_count": 7,
     "metadata": {},
     "output_type": "execute_result"
    }
   ],
   "source": [
    "# describe gives statistical information about all columns in the dataset\n",
    "train_df.describe(include = 'all')"
   ]
  },
  {
   "cell_type": "code",
   "execution_count": 8,
   "metadata": {},
   "outputs": [
    {
     "data": {
      "text/plain": [
       "PassengerId      0\n",
       "Survived         0\n",
       "Pclass           0\n",
       "Name             0\n",
       "Sex              0\n",
       "Age            177\n",
       "SibSp            0\n",
       "Parch            0\n",
       "Ticket           0\n",
       "Fare             0\n",
       "Cabin          687\n",
       "Embarked         2\n",
       "dtype: int64"
      ]
     },
     "execution_count": 8,
     "metadata": {},
     "output_type": "execute_result"
    }
   ],
   "source": [
    "# check if any of the columns has null values\n",
    "train_df.isnull().sum()"
   ]
  },
  {
   "cell_type": "code",
   "execution_count": 9,
   "metadata": {},
   "outputs": [
    {
     "data": {
      "text/plain": [
       "PassengerId      0\n",
       "Pclass           0\n",
       "Name             0\n",
       "Sex              0\n",
       "Age             86\n",
       "SibSp            0\n",
       "Parch            0\n",
       "Ticket           0\n",
       "Fare             1\n",
       "Cabin          327\n",
       "Embarked         0\n",
       "dtype: int64"
      ]
     },
     "execution_count": 9,
     "metadata": {},
     "output_type": "execute_result"
    }
   ],
   "source": [
    "# check if any of the columns has null values\n",
    "test_df.isnull().sum()"
   ]
  },
  {
   "cell_type": "markdown",
   "metadata": {},
   "source": [
    "## Data corrections/improvements"
   ]
  },
  {
   "cell_type": "code",
   "execution_count": 10,
   "metadata": {},
   "outputs": [],
   "source": [
    "# drop the columns which are not needed\n",
    "train_df.drop(['PassengerId', 'Ticket', 'Cabin'], axis = 1, inplace = True)\n",
    "test_df.drop(['PassengerId', 'Ticket', 'Cabin'], axis = 1, inplace = True)"
   ]
  },
  {
   "cell_type": "code",
   "execution_count": 11,
   "metadata": {},
   "outputs": [],
   "source": [
    "# Replace the colums 'SibSp' & 'Parch' with a single column 'Family' which represents whether the passenger had any family\n",
    "# member aboard or not\n",
    "train_df['Family'] = train_df['SibSp'] + train_df['Parch']\n",
    "test_df['Family'] = test_df['SibSp'] + test_df['Parch']\n",
    "\n",
    "# drop tht 'SibSp' and 'Parch' columns\n",
    "train_df.drop(['SibSp', 'Parch'], axis = 1, inplace = True)\n",
    "test_df.drop(['SibSp', 'Parch'], axis = 1, inplace = True)"
   ]
  },
  {
   "cell_type": "code",
   "execution_count": 12,
   "metadata": {},
   "outputs": [],
   "source": [
    "z = lambda x: x.strip().split(',')[1].split('.')[0]\n",
    "train_df['Title'] = train_df['Name'].apply(z)\n",
    "test_df['Title'] = test_df['Name'].apply(z)\n",
    "\n",
    "# drop tht 'Name' column\n",
    "train_df.drop('Name', axis = 1, inplace = True)\n",
    "test_df.drop('Name', axis = 1, inplace = True)"
   ]
  },
  {
   "cell_type": "code",
   "execution_count": 13,
   "metadata": {},
   "outputs": [],
   "source": [
    "# fill the null values of 'Age' column with the mean of the column values\n",
    "train_df.Age.fillna(train_df['Age'].mean(), inplace = True)\n",
    "test_df.Age.fillna(test_df['Age'].mean(), inplace = True)\n",
    "train_df.Age.fillna('S', inplace = True)"
   ]
  },
  {
   "cell_type": "code",
   "execution_count": 14,
   "metadata": {},
   "outputs": [],
   "source": [
    "# fill the null values of 'Fare' column with the mean of the column values\n",
    "test_df.Fare.fillna(test_df['Fare'].mean(), inplace = True)"
   ]
  },
  {
   "cell_type": "code",
   "execution_count": 15,
   "metadata": {},
   "outputs": [],
   "source": [
    "# convert the values of 'Embarked' column to numerical format\n",
    "z = lambda x: 1 if x == 'C' else (2 if x == 'Q' else 3)\n",
    "train_df['Embarked'] = train_df['Embarked'].apply(z)\n",
    "test_df['Embarked'] = test_df['Embarked'].apply(z)"
   ]
  },
  {
   "cell_type": "code",
   "execution_count": 16,
   "metadata": {},
   "outputs": [],
   "source": [
    "# convert the values of 'Sex' column to numerical format\n",
    "z = lambda x: 1 if x == 'male' else 0\n",
    "train_df['Sex'] = train_df['Sex'].apply(z)\n",
    "test_df['Sex'] = test_df['Sex'].apply(z)"
   ]
  },
  {
   "cell_type": "markdown",
   "metadata": {},
   "source": [
    "## Data Visualization"
   ]
  },
  {
   "cell_type": "code",
   "execution_count": 17,
   "metadata": {},
   "outputs": [
    {
     "data": {
      "image/png": "[encoded data removed]",
      "text/plain": [
       "<Figure size 576x360 with 1 Axes>"
      ]
     },
     "metadata": {
      "needs_background": "light"
     },
     "output_type": "display_data"
    }
   ],
   "source": [
    "plt.figure(figsize = [8,5])\n",
    "sns.distplot(train_df['Age']);"
   ]
  },
  {
   "cell_type": "code",
   "execution_count": 18,
   "metadata": {},
   "outputs": [
    {
     "data": {
      "image/png": "[encoded data removed]",
      "text/plain": [
       "<Figure size 1296x360 with 3 Axes>"
      ]
     },
     "metadata": {
      "needs_background": "light"
     },
     "output_type": "display_data"
    }
   ],
   "source": [
    "# (Pclass, Sex, Embarked) Vs Survived\n",
    "fig, (axis1,axis2,axis3) = plt.subplots(1, 3, figsize = (18,5))\n",
    "sns.barplot(x = 'Pclass', y = 'Survived', data = train_df, ax = axis1)\n",
    "sns.barplot(x = 'Sex', y = 'Survived', data = train_df, ax = axis2)\n",
    "sns.barplot(x = 'Embarked', y = 'Survived', data = train_df, ax = axis3);"
   ]
  },
  {
   "cell_type": "code",
   "execution_count": 19,
   "metadata": {},
   "outputs": [
    {
     "data": {
      "image/png": "[encoded data removed]",
      "text/plain": [
       "<Figure size 1152x360 with 2 Axes>"
      ]
     },
     "metadata": {
      "needs_background": "light"
     },
     "output_type": "display_data"
    }
   ],
   "source": [
    "fig, (axis1, axis2) = plt.subplots(1, 2, figsize = (16, 5))\n",
    "sns.countplot(x = 'Family', data = train_df, ax = axis1)\n",
    "sns.barplot(x = 'Family', y = 'Survived', data = train_df, ax = axis2);"
   ]
  },
  {
   "cell_type": "code",
   "execution_count": 20,
   "metadata": {},
   "outputs": [
    {
     "data": {
      "image/png": "[encoded data removed]",
      "text/plain": [
       "<Figure size 1152x720 with 2 Axes>"
      ]
     },
     "metadata": {
      "needs_background": "light"
     },
     "output_type": "display_data"
    }
   ],
   "source": [
    "fig, (axis1, axis2) = plt.subplots(2, 1, figsize = (16, 10))\n",
    "sns.countplot(x = 'Title', data = train_df, ax = axis1)\n",
    "sns.barplot(x = 'Title', y = 'Survived', data = train_df, ax = axis2);"
   ]
  },
  {
   "cell_type": "markdown",
   "metadata": {},
   "source": [
    "### Convert 'Title' column into int valued coulmns"
   ]
  },
  {
   "cell_type": "code",
   "execution_count": 21,
   "metadata": {},
   "outputs": [],
   "source": [
    "y = train_df.Title.value_counts() > 10\n",
    "z = test_df.Title.value_counts() > 10\n",
    "train_df['Title'] = train_df['Title'].apply(lambda x: 'Others' if y[x] == False else x)\n",
    "test_df['Title'] = test_df['Title'].apply(lambda x: 'Others' if z[x] == False else x)\n",
    "\n",
    "train_df = pd.concat([train_df, pd.get_dummies(train_df['Title'])], axis = 1)\n",
    "test_df = pd.concat([test_df, pd.get_dummies(test_df['Title'])], axis = 1)\n",
    "\n",
    "# drop the 'Name' column\n",
    "train_df.drop('Title', axis = 1, inplace = True)\n",
    "test_df.drop('Title', axis = 1, inplace = True)"
   ]
  },
  {
   "cell_type": "code",
   "execution_count": 22,
   "metadata": {},
   "outputs": [
    {
     "data": {
      "text/html": [
       "<div>\n",
       "<style scoped>\n",
       "    .dataframe tbody tr th:only-of-type {\n",
       "        vertical-align: middle;\n",
       "    }\n",
       "\n",
       "    .dataframe tbody tr th {\n",
       "        vertical-align: top;\n",
       "    }\n",
       "\n",
       "    .dataframe thead th {\n",
       "        text-align: right;\n",
       "    }\n",
       "</style>\n",
       "<table border=\"1\" class=\"dataframe\">\n",
       "  <thead>\n",
       "    <tr style=\"text-align: right;\">\n",
       "      <th></th>\n",
       "      <th>Survived</th>\n",
       "      <th>Pclass</th>\n",
       "      <th>Sex</th>\n",
       "      <th>Age</th>\n",
       "      <th>Fare</th>\n",
       "      <th>Embarked</th>\n",
       "      <th>Family</th>\n",
       "      <th>Master</th>\n",
       "      <th>Miss</th>\n",
       "      <th>Mr</th>\n",
       "      <th>Mrs</th>\n",
       "      <th>Others</th>\n",
       "    </tr>\n",
       "  </thead>\n",
       "  <tbody>\n",
       "    <tr>\n",
       "      <th>0</th>\n",
       "      <td>0</td>\n",
       "      <td>3</td>\n",
       "      <td>1</td>\n",
       "      <td>22.0</td>\n",
       "      <td>7.2500</td>\n",
       "      <td>3</td>\n",
       "      <td>1</td>\n",
       "      <td>0</td>\n",
       "      <td>0</td>\n",
       "      <td>1</td>\n",
       "      <td>0</td>\n",
       "      <td>0</td>\n",
       "    </tr>\n",
       "    <tr>\n",
       "      <th>1</th>\n",
       "      <td>1</td>\n",
       "      <td>1</td>\n",
       "      <td>0</td>\n",
       "      <td>38.0</td>\n",
       "      <td>71.2833</td>\n",
       "      <td>1</td>\n",
       "      <td>1</td>\n",
       "      <td>0</td>\n",
       "      <td>0</td>\n",
       "      <td>0</td>\n",
       "      <td>1</td>\n",
       "      <td>0</td>\n",
       "    </tr>\n",
       "    <tr>\n",
       "      <th>2</th>\n",
       "      <td>1</td>\n",
       "      <td>3</td>\n",
       "      <td>0</td>\n",
       "      <td>26.0</td>\n",
       "      <td>7.9250</td>\n",
       "      <td>3</td>\n",
       "      <td>0</td>\n",
       "      <td>0</td>\n",
       "      <td>1</td>\n",
       "      <td>0</td>\n",
       "      <td>0</td>\n",
       "      <td>0</td>\n",
       "    </tr>\n",
       "    <tr>\n",
       "      <th>3</th>\n",
       "      <td>1</td>\n",
       "      <td>1</td>\n",
       "      <td>0</td>\n",
       "      <td>35.0</td>\n",
       "      <td>53.1000</td>\n",
       "      <td>3</td>\n",
       "      <td>1</td>\n",
       "      <td>0</td>\n",
       "      <td>0</td>\n",
       "      <td>0</td>\n",
       "      <td>1</td>\n",
       "      <td>0</td>\n",
       "    </tr>\n",
       "    <tr>\n",
       "      <th>4</th>\n",
       "      <td>0</td>\n",
       "      <td>3</td>\n",
       "      <td>1</td>\n",
       "      <td>35.0</td>\n",
       "      <td>8.0500</td>\n",
       "      <td>3</td>\n",
       "      <td>0</td>\n",
       "      <td>0</td>\n",
       "      <td>0</td>\n",
       "      <td>1</td>\n",
       "      <td>0</td>\n",
       "      <td>0</td>\n",
       "    </tr>\n",
       "  </tbody>\n",
       "</table>\n",
       "</div>"
      ],
      "text/plain": [
       "   Survived  Pclass  Sex   Age     Fare  Embarked  Family   Master   Miss  \\\n",
       "0         0       3    1  22.0   7.2500         3       1        0      0   \n",
       "1         1       1    0  38.0  71.2833         1       1        0      0   \n",
       "2         1       3    0  26.0   7.9250         3       0        0      1   \n",
       "3         1       1    0  35.0  53.1000         3       1        0      0   \n",
       "4         0       3    1  35.0   8.0500         3       0        0      0   \n",
       "\n",
       "    Mr   Mrs  Others  \n",
       "0    1     0       0  \n",
       "1    0     1       0  \n",
       "2    0     0       0  \n",
       "3    0     1       0  \n",
       "4    1     0       0  "
      ]
     },
     "execution_count": 22,
     "metadata": {},
     "output_type": "execute_result"
    }
   ],
   "source": [
    "train_df.head()"
   ]
  },
  {
   "cell_type": "markdown",
   "metadata": {},
   "source": [
    "## Machine Learning"
   ]
  },
  {
   "cell_type": "code",
   "execution_count": 23,
   "metadata": {},
   "outputs": [],
   "source": [
    "# import the required modules\n",
    "from sklearn.preprocessing import StandardScaler\n",
    "from sklearn.linear_model import LogisticRegression\n",
    "from sklearn.ensemble import RandomForestClassifier\n",
    "from sklearn import svm\n",
    "from sklearn.neural_network import MLPClassifier\n",
    "from sklearn.metrics import accuracy_score, confusion_matrix, classification_report"
   ]
  },
  {
   "cell_type": "code",
   "execution_count": 24,
   "metadata": {},
   "outputs": [
    {
     "name": "stdout",
     "output_type": "stream",
     "text": [
      "X_train shape:(891, 11)\n",
      "Y_train shape:(891, 1)\n",
      "X_test shape:(418, 11)\n"
     ]
    }
   ],
   "source": [
    "# get the training and test data from the dataframes\n",
    "(Y_train, X_train) = (train_df['Survived'].values, train_df.drop(['Survived'], axis = 1).values)\n",
    "Y_train = Y_train.reshape(X_train.shape[0], 1)\n",
    "X_test = test_df.values\n",
    "Y_test = test_op_df['Survived'].values\n",
    "\n",
    "print(\"X_train shape:\" + str(X_train.shape))\n",
    "print(\"Y_train shape:\" + str(Y_train.shape))\n",
    "print(\"X_test shape:\" + str(X_test.shape))"
   ]
  },
  {
   "cell_type": "markdown",
   "metadata": {},
   "source": [
    "### Scale the values using StandardScaler"
   ]
  },
  {
   "cell_type": "code",
   "execution_count": 25,
   "metadata": {},
   "outputs": [],
   "source": [
    "scaler = StandardScaler()\n",
    "X_train = scaler.fit_transform(X_train)\n",
    "X_test = scaler.fit_transform(X_test)"
   ]
  },
  {
   "cell_type": "markdown",
   "metadata": {},
   "source": [
    "### 1. Using Logistic Regression"
   ]
  },
  {
   "cell_type": "code",
   "execution_count": 26,
   "metadata": {},
   "outputs": [
    {
     "name": "stdout",
     "output_type": "stream",
     "text": [
      "Logistic Regression train score:  82.94\n",
      "Logistic Regression test score:  77.99\n",
      "Classification Report: \n",
      "               precision    recall  f1-score   support\n",
      "\n",
      "           0       0.82      0.83      0.82       260\n",
      "           1       0.71      0.70      0.71       158\n",
      "\n",
      "    accuracy                           0.78       418\n",
      "   macro avg       0.77      0.76      0.77       418\n",
      "weighted avg       0.78      0.78      0.78       418\n",
      "\n",
      "Confusion Matrix:\n",
      " [[215  45]\n",
      " [ 47 111]]\n"
     ]
    },
    {
     "name": "stderr",
     "output_type": "stream",
     "text": [
      "C:\\ProgramData\\Anaconda3\\lib\\site-packages\\sklearn\\utils\\validation.py:73: DataConversionWarning: A column-vector y was passed when a 1d array was expected. Please change the shape of y to (n_samples, ), for example using ravel().\n",
      "  return f(**kwargs)\n"
     ]
    }
   ],
   "source": [
    "logreg = LogisticRegression(max_iter = 1000)\n",
    "logreg.fit(X_train, Y_train)\n",
    "\n",
    "# train score\n",
    "lr_train_score = round(logreg.score(X_train, Y_train) * 100, 2)\n",
    "lr_test_score = round(logreg.score(X_test, Y_test) * 100, 2)\n",
    "# predicted output\n",
    "Y_pred_lr = logreg.predict(X_test)\n",
    "\n",
    "print('Logistic Regression train score: ', lr_train_score)\n",
    "print('Logistic Regression test score: ', lr_test_score)\n",
    "print('Classification Report: \\n', classification_report(Y_test, Y_pred_lr))\n",
    "print('Confusion Matrix:\\n', confusion_matrix(Y_test, Y_pred_lr))"
   ]
  },
  {
   "cell_type": "markdown",
   "metadata": {},
   "source": [
    "### 2. Using Random Forest Classifier"
   ]
  },
  {
   "cell_type": "code",
   "execution_count": 27,
   "metadata": {},
   "outputs": [
    {
     "name": "stderr",
     "output_type": "stream",
     "text": [
      "<ipython-input-27-441f4d1e585f>:2: DataConversionWarning: A column-vector y was passed when a 1d array was expected. Please change the shape of y to (n_samples,), for example using ravel().\n",
      "  rf_cl.fit(X_train, Y_train)\n"
     ]
    },
    {
     "name": "stdout",
     "output_type": "stream",
     "text": [
      "Random Forest train score:  98.43\n",
      "Random Forest test score:  76.56\n",
      "Classification Report: \n",
      "               precision    recall  f1-score   support\n",
      "\n",
      "           0       0.80      0.83      0.82       260\n",
      "           1       0.71      0.65      0.68       158\n",
      "\n",
      "    accuracy                           0.77       418\n",
      "   macro avg       0.75      0.74      0.75       418\n",
      "weighted avg       0.76      0.77      0.76       418\n",
      "\n",
      "Confusion Matrix:\n",
      " [[217  43]\n",
      " [ 55 103]]\n"
     ]
    }
   ],
   "source": [
    "rf_cl = RandomForestClassifier()\n",
    "rf_cl.fit(X_train, Y_train)\n",
    "\n",
    "# train score\n",
    "rf_train_score = round(rf_cl.score(X_train, Y_train) * 100, 2)\n",
    "rf_test_score = round(rf_cl.score(X_test, Y_test) * 100, 2)\n",
    "# predicted output\n",
    "Y_pred_rf = rf_cl.predict(X_test)\n",
    "\n",
    "print('Random Forest train score: ', rf_train_score)\n",
    "print('Random Forest test score: ', rf_test_score)\n",
    "print('Classification Report: \\n', classification_report(Y_test, Y_pred_rf))\n",
    "print('Confusion Matrix:\\n', confusion_matrix(Y_test, Y_pred_rf))"
   ]
  },
  {
   "cell_type": "markdown",
   "metadata": {},
   "source": [
    "### 3. Using Support Vector Machines"
   ]
  },
  {
   "cell_type": "code",
   "execution_count": 28,
   "metadata": {},
   "outputs": [
    {
     "name": "stdout",
     "output_type": "stream",
     "text": [
      "SVM train score:  83.16\n",
      "SVM test score:  77.75\n",
      "Classification Report: \n",
      "               precision    recall  f1-score   support\n",
      "\n",
      "           0       0.83      0.81      0.82       260\n",
      "           1       0.70      0.72      0.71       158\n",
      "\n",
      "    accuracy                           0.78       418\n",
      "   macro avg       0.76      0.77      0.76       418\n",
      "weighted avg       0.78      0.78      0.78       418\n",
      "\n",
      "Confusion Matrix:\n",
      " [[211  49]\n",
      " [ 44 114]]\n"
     ]
    },
    {
     "name": "stderr",
     "output_type": "stream",
     "text": [
      "C:\\ProgramData\\Anaconda3\\lib\\site-packages\\sklearn\\utils\\validation.py:73: DataConversionWarning: A column-vector y was passed when a 1d array was expected. Please change the shape of y to (n_samples, ), for example using ravel().\n",
      "  return f(**kwargs)\n"
     ]
    }
   ],
   "source": [
    "svm_cl = svm.SVC(kernel = 'linear')\n",
    "svm_cl.fit(X_train, Y_train)\n",
    "\n",
    "# train score\n",
    "svm_train_score = round(svm_cl.score(X_train, Y_train) * 100, 2)\n",
    "svm_test_score = round(svm_cl.score(X_test, Y_test) * 100, 2)\n",
    "# predicted output\n",
    "Y_pred_svm = svm_cl.predict(X_test)\n",
    "\n",
    "print('SVM train score: ', svm_train_score)\n",
    "print('SVM test score: ', svm_test_score)\n",
    "print('Classification Report: \\n', classification_report(Y_test, Y_pred_svm))\n",
    "print('Confusion Matrix:\\n', confusion_matrix(Y_test, Y_pred_svm))"
   ]
  },
  {
   "cell_type": "markdown",
   "metadata": {},
   "source": [
    "### 4. Sklearn Neural Networks"
   ]
  },
  {
   "cell_type": "code",
   "execution_count": 29,
   "metadata": {},
   "outputs": [
    {
     "name": "stderr",
     "output_type": "stream",
     "text": [
      "C:\\ProgramData\\Anaconda3\\lib\\site-packages\\sklearn\\utils\\validation.py:73: DataConversionWarning: A column-vector y was passed when a 1d array was expected. Please change the shape of y to (n_samples, ), for example using ravel().\n",
      "  return f(**kwargs)\n"
     ]
    },
    {
     "name": "stdout",
     "output_type": "stream",
     "text": [
      "MLP train score:  83.39\n",
      "MLP test score:  77.75\n",
      "Classification Report: \n",
      "               precision    recall  f1-score   support\n",
      "\n",
      "           0       0.80      0.86      0.83       260\n",
      "           1       0.73      0.65      0.69       158\n",
      "\n",
      "    accuracy                           0.78       418\n",
      "   macro avg       0.77      0.75      0.76       418\n",
      "weighted avg       0.77      0.78      0.77       418\n",
      "\n",
      "Confusion Matrix:\n",
      " [[223  37]\n",
      " [ 56 102]]\n"
     ]
    }
   ],
   "source": [
    "mlp_clf = MLPClassifier(hidden_layer_sizes = (20, 10), max_iter=1000, activation='logistic')\n",
    "mlp_clf.fit(X_train, Y_train)\n",
    "\n",
    "# train score\n",
    "mlp_train_score = round(mlp_clf.score(X_train, Y_train) * 100, 2)\n",
    "mlp_test_score = round(mlp_clf.score(X_test, Y_test) * 100, 2)\n",
    "# predicted output\n",
    "Y_pred_mlp = mlp_clf.predict(X_test)\n",
    "\n",
    "print('MLP train score: ', mlp_train_score)\n",
    "print('MLP test score: ', mlp_test_score)\n",
    "print('Classification Report: \\n', classification_report(Y_test, Y_pred_mlp))\n",
    "print('Confusion Matrix:\\n', confusion_matrix(Y_test, Y_pred_mlp))"
   ]
  },
  {
   "cell_type": "markdown",
   "metadata": {},
   "source": [
    "### 5. Using Keras"
   ]
  },
  {
   "cell_type": "code",
   "execution_count": 30,
   "metadata": {},
   "outputs": [],
   "source": [
    "from keras.models import Sequential\n",
    "from keras.layers import Input, Dense"
   ]
  },
  {
   "cell_type": "code",
   "execution_count": 31,
   "metadata": {},
   "outputs": [],
   "source": [
    "model = Sequential()\n",
    "model.add(Input(shape = (11, )))\n",
    "model.add(Dense(20, activation = 'relu'))\n",
    "model.add(Dense(15, activation = 'relu'))\n",
    "model.add(Dense(1, activation = 'sigmoid'))"
   ]
  },
  {
   "cell_type": "code",
   "execution_count": 32,
   "metadata": {},
   "outputs": [
    {
     "name": "stdout",
     "output_type": "stream",
     "text": [
      "Model: \"sequential\"\n",
      "_________________________________________________________________\n",
      "Layer (type)                 Output Shape              Param #   \n",
      "=================================================================\n",
      "dense (Dense)                (None, 20)                240       \n",
      "_________________________________________________________________\n",
      "dense_1 (Dense)              (None, 15)                315       \n",
      "_________________________________________________________________\n",
      "dense_2 (Dense)              (None, 1)                 16        \n",
      "=================================================================\n",
      "Total params: 571\n",
      "Trainable params: 571\n",
      "Non-trainable params: 0\n",
      "_________________________________________________________________\n"
     ]
    }
   ],
   "source": [
    "# summary of the model\n",
    "model.summary()"
   ]
  },
  {
   "cell_type": "code",
   "execution_count": 33,
   "metadata": {},
   "outputs": [],
   "source": [
    "# compile the model\n",
    "model.compile(loss = 'binary_crossentropy', optimizer = 'adam', metrics = ['accuracy'])"
   ]
  },
  {
   "cell_type": "code",
   "execution_count": 34,
   "metadata": {
    "scrolled": true
   },
   "outputs": [
    {
     "name": "stdout",
     "output_type": "stream",
     "text": [
      "Epoch 1/50\n",
      "45/45 [==============================] - 1s 14ms/step - loss: 0.6594 - accuracy: 0.6756 - val_loss: 0.6194 - val_accuracy: 0.7877\n",
      "Epoch 2/50\n",
      "45/45 [==============================] - 0s 3ms/step - loss: 0.5860 - accuracy: 0.7739 - val_loss: 0.5466 - val_accuracy: 0.7933\n",
      "Epoch 3/50\n",
      "45/45 [==============================] - 0s 3ms/step - loss: 0.5310 - accuracy: 0.7837 - val_loss: 0.4850 - val_accuracy: 0.7989\n",
      "Epoch 4/50\n",
      "45/45 [==============================] - 0s 3ms/step - loss: 0.4908 - accuracy: 0.7893 - val_loss: 0.4335 - val_accuracy: 0.8045\n",
      "Epoch 5/50\n",
      "45/45 [==============================] - 0s 3ms/step - loss: 0.4664 - accuracy: 0.8076 - val_loss: 0.4044 - val_accuracy: 0.8212\n",
      "Epoch 6/50\n",
      "45/45 [==============================] - 0s 3ms/step - loss: 0.4522 - accuracy: 0.8118 - val_loss: 0.3816 - val_accuracy: 0.8324\n",
      "Epoch 7/50\n",
      "45/45 [==============================] - 0s 3ms/step - loss: 0.4436 - accuracy: 0.8146 - val_loss: 0.3713 - val_accuracy: 0.8380\n",
      "Epoch 8/50\n",
      "45/45 [==============================] - 0s 3ms/step - loss: 0.4369 - accuracy: 0.8202 - val_loss: 0.3606 - val_accuracy: 0.8436\n",
      "Epoch 9/50\n",
      "45/45 [==============================] - 0s 3ms/step - loss: 0.4314 - accuracy: 0.8230 - val_loss: 0.3544 - val_accuracy: 0.8603\n",
      "Epoch 10/50\n",
      "45/45 [==============================] - 0s 3ms/step - loss: 0.4286 - accuracy: 0.8202 - val_loss: 0.3502 - val_accuracy: 0.8659\n",
      "Epoch 11/50\n",
      "45/45 [==============================] - 0s 3ms/step - loss: 0.4252 - accuracy: 0.8287 - val_loss: 0.3457 - val_accuracy: 0.8659\n",
      "Epoch 12/50\n",
      "45/45 [==============================] - 0s 3ms/step - loss: 0.4210 - accuracy: 0.8287 - val_loss: 0.3417 - val_accuracy: 0.8715\n",
      "Epoch 13/50\n",
      "45/45 [==============================] - 0s 3ms/step - loss: 0.4187 - accuracy: 0.8272 - val_loss: 0.3377 - val_accuracy: 0.8715\n",
      "Epoch 14/50\n",
      "45/45 [==============================] - 0s 3ms/step - loss: 0.4161 - accuracy: 0.8287 - val_loss: 0.3369 - val_accuracy: 0.8827\n",
      "Epoch 15/50\n",
      "45/45 [==============================] - 0s 3ms/step - loss: 0.4136 - accuracy: 0.8287 - val_loss: 0.3333 - val_accuracy: 0.8771\n",
      "Epoch 16/50\n",
      "45/45 [==============================] - 0s 3ms/step - loss: 0.4117 - accuracy: 0.8244 - val_loss: 0.3335 - val_accuracy: 0.8715\n",
      "Epoch 17/50\n",
      "45/45 [==============================] - 0s 3ms/step - loss: 0.4124 - accuracy: 0.8315 - val_loss: 0.3281 - val_accuracy: 0.8827\n",
      "Epoch 18/50\n",
      "45/45 [==============================] - 0s 3ms/step - loss: 0.4079 - accuracy: 0.8301 - val_loss: 0.3278 - val_accuracy: 0.8827\n",
      "Epoch 19/50\n",
      "45/45 [==============================] - 0s 3ms/step - loss: 0.4080 - accuracy: 0.8272 - val_loss: 0.3282 - val_accuracy: 0.8715\n",
      "Epoch 20/50\n",
      "45/45 [==============================] - 0s 3ms/step - loss: 0.4074 - accuracy: 0.8216 - val_loss: 0.3293 - val_accuracy: 0.8771\n",
      "Epoch 21/50\n",
      "45/45 [==============================] - 0s 3ms/step - loss: 0.4043 - accuracy: 0.8315 - val_loss: 0.3262 - val_accuracy: 0.8827\n",
      "Epoch 22/50\n",
      "45/45 [==============================] - 0s 3ms/step - loss: 0.4040 - accuracy: 0.8301 - val_loss: 0.3237 - val_accuracy: 0.8827\n",
      "Epoch 23/50\n",
      "45/45 [==============================] - 0s 3ms/step - loss: 0.4021 - accuracy: 0.8329 - val_loss: 0.3252 - val_accuracy: 0.8827\n",
      "Epoch 24/50\n",
      "45/45 [==============================] - 0s 2ms/step - loss: 0.4010 - accuracy: 0.8329 - val_loss: 0.3228 - val_accuracy: 0.8827\n",
      "Epoch 25/50\n",
      "45/45 [==============================] - 0s 3ms/step - loss: 0.4007 - accuracy: 0.8315 - val_loss: 0.3212 - val_accuracy: 0.8827\n",
      "Epoch 26/50\n",
      "45/45 [==============================] - 0s 2ms/step - loss: 0.3982 - accuracy: 0.8357 - val_loss: 0.3218 - val_accuracy: 0.8771\n",
      "Epoch 27/50\n",
      "45/45 [==============================] - 0s 3ms/step - loss: 0.3985 - accuracy: 0.8329 - val_loss: 0.3208 - val_accuracy: 0.8827\n",
      "Epoch 28/50\n",
      "45/45 [==============================] - 0s 4ms/step - loss: 0.3973 - accuracy: 0.8357 - val_loss: 0.3168 - val_accuracy: 0.8827\n",
      "Epoch 29/50\n",
      "45/45 [==============================] - 0s 4ms/step - loss: 0.3966 - accuracy: 0.8343 - val_loss: 0.3214 - val_accuracy: 0.8827\n",
      "Epoch 30/50\n",
      "45/45 [==============================] - 0s 3ms/step - loss: 0.3962 - accuracy: 0.8343 - val_loss: 0.3178 - val_accuracy: 0.8771\n",
      "Epoch 31/50\n",
      "45/45 [==============================] - 0s 3ms/step - loss: 0.3941 - accuracy: 0.8357 - val_loss: 0.3167 - val_accuracy: 0.8883\n",
      "Epoch 32/50\n",
      "45/45 [==============================] - 0s 3ms/step - loss: 0.3931 - accuracy: 0.8357 - val_loss: 0.3182 - val_accuracy: 0.8827\n",
      "Epoch 33/50\n",
      "45/45 [==============================] - 0s 3ms/step - loss: 0.3920 - accuracy: 0.8357 - val_loss: 0.3189 - val_accuracy: 0.8827\n",
      "Epoch 34/50\n",
      "45/45 [==============================] - 0s 3ms/step - loss: 0.3917 - accuracy: 0.8455 - val_loss: 0.3177 - val_accuracy: 0.8827\n",
      "Epoch 35/50\n",
      "45/45 [==============================] - 0s 3ms/step - loss: 0.3910 - accuracy: 0.8413 - val_loss: 0.3183 - val_accuracy: 0.8827\n",
      "Epoch 36/50\n",
      "45/45 [==============================] - 0s 3ms/step - loss: 0.3899 - accuracy: 0.8441 - val_loss: 0.3172 - val_accuracy: 0.8883\n",
      "Epoch 37/50\n",
      "45/45 [==============================] - 0s 4ms/step - loss: 0.3884 - accuracy: 0.8441 - val_loss: 0.3164 - val_accuracy: 0.8827\n",
      "Epoch 38/50\n",
      "45/45 [==============================] - 0s 4ms/step - loss: 0.3905 - accuracy: 0.8385 - val_loss: 0.3190 - val_accuracy: 0.8883\n",
      "Epoch 39/50\n",
      "45/45 [==============================] - 0s 3ms/step - loss: 0.3897 - accuracy: 0.8329 - val_loss: 0.3167 - val_accuracy: 0.8939\n",
      "Epoch 40/50\n",
      "45/45 [==============================] - 0s 3ms/step - loss: 0.3871 - accuracy: 0.8343 - val_loss: 0.3141 - val_accuracy: 0.8883\n",
      "Epoch 41/50\n",
      "45/45 [==============================] - 0s 3ms/step - loss: 0.3866 - accuracy: 0.8413 - val_loss: 0.3134 - val_accuracy: 0.8883\n",
      "Epoch 42/50\n",
      "45/45 [==============================] - 0s 3ms/step - loss: 0.3853 - accuracy: 0.8371 - val_loss: 0.3163 - val_accuracy: 0.8827\n",
      "Epoch 43/50\n",
      "45/45 [==============================] - 0s 3ms/step - loss: 0.3845 - accuracy: 0.8455 - val_loss: 0.3140 - val_accuracy: 0.8883\n",
      "Epoch 44/50\n",
      "45/45 [==============================] - 0s 3ms/step - loss: 0.3835 - accuracy: 0.8413 - val_loss: 0.3144 - val_accuracy: 0.8883\n",
      "Epoch 45/50\n",
      "45/45 [==============================] - 0s 3ms/step - loss: 0.3835 - accuracy: 0.8385 - val_loss: 0.3173 - val_accuracy: 0.8827\n",
      "Epoch 46/50\n",
      "45/45 [==============================] - 0s 3ms/step - loss: 0.3829 - accuracy: 0.8371 - val_loss: 0.3144 - val_accuracy: 0.8883\n",
      "Epoch 47/50\n",
      "45/45 [==============================] - 0s 3ms/step - loss: 0.3830 - accuracy: 0.8413 - val_loss: 0.3156 - val_accuracy: 0.8827\n",
      "Epoch 48/50\n",
      "45/45 [==============================] - 0s 3ms/step - loss: 0.3821 - accuracy: 0.8427 - val_loss: 0.3136 - val_accuracy: 0.8883\n",
      "Epoch 49/50\n",
      "45/45 [==============================] - 0s 3ms/step - loss: 0.3806 - accuracy: 0.8413 - val_loss: 0.3169 - val_accuracy: 0.8827\n",
      "Epoch 50/50\n",
      "45/45 [==============================] - 0s 3ms/step - loss: 0.3801 - accuracy: 0.8385 - val_loss: 0.3134 - val_accuracy: 0.8883\n"
     ]
    }
   ],
   "source": [
    "# iterate on training data with mini batch size of 32\n",
    "history = model.fit(X_train, Y_train, epochs = 50, batch_size = 16, validation_split = 0.2)"
   ]
  },
  {
   "cell_type": "code",
   "execution_count": 35,
   "metadata": {},
   "outputs": [
    {
     "data": {
      "image/png": "[encoded data removed]",
      "text/plain": [
       "<Figure size 432x288 with 1 Axes>"
      ]
     },
     "metadata": {
      "needs_background": "light"
     },
     "output_type": "display_data"
    },
    {
     "data": {
      "image/png": "[encoded data removed]",
      "text/plain": [
       "<Figure size 432x288 with 1 Axes>"
      ]
     },
     "metadata": {
      "needs_background": "light"
     },
     "output_type": "display_data"
    }
   ],
   "source": [
    "# plot training and validation accuracy values\n",
    "plt.plot(history.history['accuracy'])\n",
    "plt.plot(history.history['val_accuracy'])\n",
    "plt.title('Model accuracy')\n",
    "plt.xlabel('Epoch')\n",
    "plt.ylabel('Accuracy')\n",
    "plt.legend(['Train', 'Val'], loc = 'upper left')\n",
    "plt.show()\n",
    "\n",
    "# plot training and validation loss values\n",
    "plt.plot(history.history['loss'])\n",
    "plt.plot(history.history['val_loss'])\n",
    "plt.title('Model loss')\n",
    "plt.xlabel('Epoch')\n",
    "plt.ylabel('Loss')\n",
    "plt.legend(['Train', 'Val'], loc = 'upper left')\n",
    "plt.show()"
   ]
  },
  {
   "cell_type": "code",
   "execution_count": 36,
   "metadata": {},
   "outputs": [
    {
     "name": "stdout",
     "output_type": "stream",
     "text": [
      "28/28 [==============================] - 0s 1ms/step - loss: 0.3627 - accuracy: 0.8519\n",
      "14/14 [==============================] - 0s 2ms/step - loss: 0.4844 - accuracy: 0.7751\n",
      "Accuracy on train set is 85.185188%\n",
      "Accuracy on test set is 77.511960%\n"
     ]
    }
   ],
   "source": [
    "# find the accuracy on train and test set\n",
    "train_loss, train_acc = model.evaluate(X_train, Y_train)\n",
    "test_loss, test_acc = model.evaluate(X_test, Y_test)\n",
    "print(\"Accuracy on train set is %f\" %(train_acc * 100)  + \"%\")\n",
    "print(\"Accuracy on test set is %f\" %(test_acc * 100)  + \"%\")"
   ]
  },
  {
   "cell_type": "markdown",
   "metadata": {},
   "source": [
    "## Write the outputs to the csv file"
   ]
  },
  {
   "cell_type": "code",
   "execution_count": 37,
   "metadata": {},
   "outputs": [],
   "source": [
    "ids = np.array([i + X_train.shape[0] + 1 for i in range(X_test.shape[0])])\n",
    "ans = {'PassengerId': ids, 'Survived': Y_pred_lr}"
   ]
  },
  {
   "cell_type": "code",
   "execution_count": 38,
   "metadata": {},
   "outputs": [],
   "source": [
    "df = pd.DataFrame(ans)"
   ]
  },
  {
   "cell_type": "code",
   "execution_count": 39,
   "metadata": {},
   "outputs": [],
   "source": [
    "df.to_csv('output.csv', index = False)"
   ]
  },
  {
   "cell_type": "code",
   "execution_count": null,
   "metadata": {},
   "outputs": [],
   "source": []
  }
 ],
 "metadata": {
  "kernelspec": {
   "display_name": "Python 3",
   "language": "python",
   "name": "python3"
  },
  "language_info": {
   "codemirror_mode": {
    "name": "ipython",
    "version": 3
   },
   "file_extension": ".py",
   "mimetype": "text/x-python",
   "name": "python",
   "nbconvert_exporter": "python",
   "pygments_lexer": "ipython3",
   "version": "3.8.5"
  }
 },
 "nbformat": 4,
 "nbformat_minor": 4
}
